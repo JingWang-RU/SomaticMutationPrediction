{
 "cells": [
  {
   "cell_type": "code",
   "execution_count": null,
   "metadata": {},
   "outputs": [],
   "source": [
    "# author: Jing\n",
    "# date: May 8th 2019\n",
    "# function: data statistics analysis and plot distribution\n",
    "import seaborn as sns\n",
    "\n",
    "sum(gender)\n",
    "#print(np.count_nonzero(gender),np.count_nonzero(gender==0))\n",
    "num_age = pd.to_numeric(fu_clin_gene['age_at_initial_pathologic_diagnosis']).values.astype(int)\n",
    "\n",
    "one_age = np.divide(num_age, 10).astype(int)\n",
    "one_age = np.reshape(one_age, (-1,1))\n",
    "#print(min(one_age),max(one_age))\n",
    "print(one_age.shape)\n",
    "print(num_age)\n",
    "print(one_age)\n",
    "\n",
    "plt.hist(one_age)\n",
    "x_label = list(range(1,10))\n",
    "hage,binedge = np.histogram(one_age)\n",
    "print(hage)\n",
    "plt.xticks(x_label)\n",
    "for x_loc,y_loc in zip(x_label, hage):\n",
    "    plt.annotate(y_loc, # this is the text\n",
    "                 (x_loc,y_loc), # this is the point to label\n",
    "                 textcoords=\"offset points\", # how to position the text\n",
    "                 xytext=(0,5), # distance from text to points (x,y)\n",
    "                 ha='center',\n",
    "                 fontsize=15) \n",
    "plt.savefig(\"./out/clinical/age.pdf\", bbox_inches='tight', \n",
    "           transparent = False,pad_inches=0.1)\n",
    "plt.show()\n",
    "\n",
    "\n",
    "#sns.catplot(x=\"deck\", kind=\"count\", palette=\"ch:.25\", data=titanic);\n",
    "sns_plot = sns.catplot( hue = \"gender\", x = \"race\", y=\"age_at_initial_pathologic_diagnosis\", kind = \"bar\", palette = \"pastel\", data = fu_clin_gene);\n",
    "sns_plot.savefig(\"./out/clinical/age_gender_race.pdf\")"
   ]
  }
 ],
 "metadata": {
  "kernelspec": {
   "display_name": "Python 3",
   "language": "python",
   "name": "python3"
  },
  "language_info": {
   "codemirror_mode": {
    "name": "ipython",
    "version": 3
   },
   "file_extension": ".py",
   "mimetype": "text/x-python",
   "name": "python",
   "nbconvert_exporter": "python",
   "pygments_lexer": "ipython3",
   "version": "3.7.3"
  }
 },
 "nbformat": 4,
 "nbformat_minor": 2
}
