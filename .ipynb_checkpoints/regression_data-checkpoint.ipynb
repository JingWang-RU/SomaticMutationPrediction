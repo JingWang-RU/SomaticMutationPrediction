{
 "cells": [
  {
   "cell_type": "code",
   "execution_count": null,
   "metadata": {},
   "outputs": [],
   "source": [
    "#author: Jing Wang jing.julia.wang@gmail.com\n",
    "#function:the immune landscape of cancer; gene processing\n",
    "#date: April 25 2019\n",
    "%matplotlib inline"
   ]
  },
  {
   "cell_type": "code",
   "execution_count": 2,
   "metadata": {},
   "outputs": [
    {
     "name": "stdout",
     "output_type": "stream",
     "text": [
      "Automatically created module for IPython interactive environment\n"
     ]
    }
   ],
   "source": [
    "print(__doc__)\n",
    "\n",
    "# author: Jing Wang jing.julia.wang@gmail.com\n",
    "# date: March 2rd 2019\n",
    "# function: build regression model fit gene expression data\n",
    "#           feature selection to find most related features\n",
    "import matplotlib.pyplot as plt\n",
    "import numpy as np\n",
    "from sklearn import datasets, linear_model\n",
    "from sklearn.metrics import mean_squared_error, r2_score\n",
    "from sklearn.model_selection import train_test_split\n",
    "from sklearn.feature_selection import VarianceThreshold\n",
    "from sklearn.feature_selection import SelectKBest\n",
    "from sklearn.feature_selection import f_regression\n",
    "import scipy.io as sio\n",
    "from matplotlib.pyplot import savefig"
   ]
  },
  {
   "cell_type": "code",
   "execution_count": 3,
   "metadata": {},
   "outputs": [
    {
     "ename": "OSError",
     "evalue": "data_gene_TCGA_LF.txt not found.",
     "output_type": "error",
     "traceback": [
      "\u001b[0;31m---------------------------------------------------------------------------\u001b[0m",
      "\u001b[0;31mOSError\u001b[0m                                   Traceback (most recent call last)",
      "\u001b[0;32m<ipython-input-3-559e7e9fa133>\u001b[0m in \u001b[0;36m<module>\u001b[0;34m()\u001b[0m\n\u001b[1;32m      1\u001b[0m \u001b[0;31m#author: Jing . jing.wang@mssm.edu\u001b[0m\u001b[0;34m\u001b[0m\u001b[0;34m\u001b[0m\u001b[0m\n\u001b[1;32m      2\u001b[0m \u001b[0;31m#function: find correlations among genes and cancer types\u001b[0m\u001b[0;34m\u001b[0m\u001b[0;34m\u001b[0m\u001b[0m\n\u001b[0;32m----> 3\u001b[0;31m \u001b[0mmatrix\u001b[0m \u001b[0;34m=\u001b[0m \u001b[0mnp\u001b[0m\u001b[0;34m.\u001b[0m\u001b[0mloadtxt\u001b[0m\u001b[0;34m(\u001b[0m\u001b[0;34m'data_gene_TCGA_LF.txt'\u001b[0m\u001b[0;34m,\u001b[0m \u001b[0musecols\u001b[0m\u001b[0;34m=\u001b[0m\u001b[0mrange\u001b[0m\u001b[0;34m(\u001b[0m\u001b[0;36m301\u001b[0m\u001b[0;34m)\u001b[0m\u001b[0;34m)\u001b[0m\u001b[0;34m\u001b[0m\u001b[0m\n\u001b[0m",
      "\u001b[0;32m/Library/Frameworks/Python.framework/Versions/3.6/lib/python3.6/site-packages/numpy/lib/npyio.py\u001b[0m in \u001b[0;36mloadtxt\u001b[0;34m(fname, dtype, comments, delimiter, converters, skiprows, usecols, unpack, ndmin, encoding, max_rows)\u001b[0m\n\u001b[1;32m    960\u001b[0m             \u001b[0mfname\u001b[0m \u001b[0;34m=\u001b[0m \u001b[0mos_fspath\u001b[0m\u001b[0;34m(\u001b[0m\u001b[0mfname\u001b[0m\u001b[0;34m)\u001b[0m\u001b[0;34m\u001b[0m\u001b[0m\n\u001b[1;32m    961\u001b[0m         \u001b[0;32mif\u001b[0m \u001b[0m_is_string_like\u001b[0m\u001b[0;34m(\u001b[0m\u001b[0mfname\u001b[0m\u001b[0;34m)\u001b[0m\u001b[0;34m:\u001b[0m\u001b[0;34m\u001b[0m\u001b[0m\n\u001b[0;32m--> 962\u001b[0;31m             \u001b[0mfh\u001b[0m \u001b[0;34m=\u001b[0m \u001b[0mnp\u001b[0m\u001b[0;34m.\u001b[0m\u001b[0mlib\u001b[0m\u001b[0;34m.\u001b[0m\u001b[0m_datasource\u001b[0m\u001b[0;34m.\u001b[0m\u001b[0mopen\u001b[0m\u001b[0;34m(\u001b[0m\u001b[0mfname\u001b[0m\u001b[0;34m,\u001b[0m \u001b[0;34m'rt'\u001b[0m\u001b[0;34m,\u001b[0m \u001b[0mencoding\u001b[0m\u001b[0;34m=\u001b[0m\u001b[0mencoding\u001b[0m\u001b[0;34m)\u001b[0m\u001b[0;34m\u001b[0m\u001b[0m\n\u001b[0m\u001b[1;32m    963\u001b[0m             \u001b[0mfencoding\u001b[0m \u001b[0;34m=\u001b[0m \u001b[0mgetattr\u001b[0m\u001b[0;34m(\u001b[0m\u001b[0mfh\u001b[0m\u001b[0;34m,\u001b[0m \u001b[0;34m'encoding'\u001b[0m\u001b[0;34m,\u001b[0m \u001b[0;34m'latin1'\u001b[0m\u001b[0;34m)\u001b[0m\u001b[0;34m\u001b[0m\u001b[0m\n\u001b[1;32m    964\u001b[0m             \u001b[0mfh\u001b[0m \u001b[0;34m=\u001b[0m \u001b[0miter\u001b[0m\u001b[0;34m(\u001b[0m\u001b[0mfh\u001b[0m\u001b[0;34m)\u001b[0m\u001b[0;34m\u001b[0m\u001b[0m\n",
      "\u001b[0;32m/Library/Frameworks/Python.framework/Versions/3.6/lib/python3.6/site-packages/numpy/lib/_datasource.py\u001b[0m in \u001b[0;36mopen\u001b[0;34m(path, mode, destpath, encoding, newline)\u001b[0m\n\u001b[1;32m    264\u001b[0m \u001b[0;34m\u001b[0m\u001b[0m\n\u001b[1;32m    265\u001b[0m     \u001b[0mds\u001b[0m \u001b[0;34m=\u001b[0m \u001b[0mDataSource\u001b[0m\u001b[0;34m(\u001b[0m\u001b[0mdestpath\u001b[0m\u001b[0;34m)\u001b[0m\u001b[0;34m\u001b[0m\u001b[0m\n\u001b[0;32m--> 266\u001b[0;31m     \u001b[0;32mreturn\u001b[0m \u001b[0mds\u001b[0m\u001b[0;34m.\u001b[0m\u001b[0mopen\u001b[0m\u001b[0;34m(\u001b[0m\u001b[0mpath\u001b[0m\u001b[0;34m,\u001b[0m \u001b[0mmode\u001b[0m\u001b[0;34m,\u001b[0m \u001b[0mencoding\u001b[0m\u001b[0;34m=\u001b[0m\u001b[0mencoding\u001b[0m\u001b[0;34m,\u001b[0m \u001b[0mnewline\u001b[0m\u001b[0;34m=\u001b[0m\u001b[0mnewline\u001b[0m\u001b[0;34m)\u001b[0m\u001b[0;34m\u001b[0m\u001b[0m\n\u001b[0m\u001b[1;32m    267\u001b[0m \u001b[0;34m\u001b[0m\u001b[0m\n\u001b[1;32m    268\u001b[0m \u001b[0;34m\u001b[0m\u001b[0m\n",
      "\u001b[0;32m/Library/Frameworks/Python.framework/Versions/3.6/lib/python3.6/site-packages/numpy/lib/_datasource.py\u001b[0m in \u001b[0;36mopen\u001b[0;34m(self, path, mode, encoding, newline)\u001b[0m\n\u001b[1;32m    622\u001b[0m                                       encoding=encoding, newline=newline)\n\u001b[1;32m    623\u001b[0m         \u001b[0;32melse\u001b[0m\u001b[0;34m:\u001b[0m\u001b[0;34m\u001b[0m\u001b[0m\n\u001b[0;32m--> 624\u001b[0;31m             \u001b[0;32mraise\u001b[0m \u001b[0mIOError\u001b[0m\u001b[0;34m(\u001b[0m\u001b[0;34m\"%s not found.\"\u001b[0m \u001b[0;34m%\u001b[0m \u001b[0mpath\u001b[0m\u001b[0;34m)\u001b[0m\u001b[0;34m\u001b[0m\u001b[0m\n\u001b[0m\u001b[1;32m    625\u001b[0m \u001b[0;34m\u001b[0m\u001b[0m\n\u001b[1;32m    626\u001b[0m \u001b[0;34m\u001b[0m\u001b[0m\n",
      "\u001b[0;31mOSError\u001b[0m: data_gene_TCGA_LF.txt not found."
     ]
    }
   ],
   "source": [
    "#author: Jing . jing.wang@mssm.edu\n",
    "#function: find correlations among genes and cancer types\n",
    "matrix = np.loadtxt('data_gene_TCGA_LF.txt', usecols=range(301))"
   ]
  },
  {
   "cell_type": "code",
   "execution_count": 30,
   "metadata": {},
   "outputs": [
    {
     "data": {
      "text/plain": [
       "(8696, 301)"
      ]
     },
     "execution_count": 30,
     "metadata": {},
     "output_type": "execute_result"
    }
   ],
   "source": [
    "matrix.shape"
   ]
  },
  {
   "cell_type": "code",
   "execution_count": 55,
   "metadata": {},
   "outputs": [
    {
     "data": {
      "text/plain": [
       "array([[ 8.],\n",
       "       [ 8.],\n",
       "       [ 8.],\n",
       "       ...,\n",
       "       [14.],\n",
       "       [ 5.],\n",
       "       [ 4.]])"
      ]
     },
     "execution_count": 55,
     "metadata": {},
     "output_type": "execute_result"
    }
   ],
   "source": [
    "\n",
    "gene = matrix[:,0:299]\n",
    "cancer = matrix[:,299:300]\n",
    "lf = matrix[:,300]\n",
    "np.unique(cancer)\n",
    "cancer"
   ]
  },
  {
   "cell_type": "code",
   "execution_count": 39,
   "metadata": {},
   "outputs": [
    {
     "data": {
      "text/plain": [
       "(299, 2)"
      ]
     },
     "execution_count": 39,
     "metadata": {},
     "output_type": "execute_result"
    }
   ],
   "source": [
    "fr_matrix = np.genfromtxt('fr_data_gene_TCGA_LF.txt', dtype='str',delimiter='\\t')\n",
    "gene_names = fr_matrix[1:-2]\n",
    "gene_names.shape\n"
   ]
  },
  {
   "cell_type": "code",
   "execution_count": 40,
   "metadata": {},
   "outputs": [
    {
     "data": {
      "text/plain": [
       "array([['ABL1', '1'],\n",
       "       ['ACVR1', '2'],\n",
       "       ['ACVR1B', '3'],\n",
       "       ['ACVR2A', '4'],\n",
       "       ['AJUBA', '5'],\n",
       "       ['AKT1', '6'],\n",
       "       ['ALB', '7'],\n",
       "       ['ALK', '8'],\n",
       "       ['AMER1', '9'],\n",
       "       ['APC', '10'],\n",
       "       ['APOB', '11'],\n",
       "       ['AR', '12'],\n",
       "       ['ARAF', '13'],\n",
       "       ['ARHGAP35', '14'],\n",
       "       ['ARID1A', '15'],\n",
       "       ['ARID2', '16'],\n",
       "       ['ARID5B', '17'],\n",
       "       ['ASXL1', '18'],\n",
       "       ['ASXL2', '19'],\n",
       "       ['ATF7IP', '20'],\n",
       "       ['ATM', '21'],\n",
       "       ['ATR', '22'],\n",
       "       ['ATRX', '23'],\n",
       "       ['ATXN3', '24'],\n",
       "       ['AXIN1', '25'],\n",
       "       ['AXIN2', '26'],\n",
       "       ['B2M', '27'],\n",
       "       ['BAP1', '28'],\n",
       "       ['BCL2', '29'],\n",
       "       ['BCL2L11', '30'],\n",
       "       ['BCOR', '31'],\n",
       "       ['BRAF', '32'],\n",
       "       ['BRCA1', '33'],\n",
       "       ['BRCA2', '34'],\n",
       "       ['BRD7', '35'],\n",
       "       ['BTG2', '36'],\n",
       "       ['CACNA1A', '37'],\n",
       "       ['CARD11', '38'],\n",
       "       ['CASP8', '39'],\n",
       "       ['CBFB', '40'],\n",
       "       ['CBWD3', '41'],\n",
       "       ['CCND1', '42'],\n",
       "       ['CD70', '43'],\n",
       "       ['CD79B', '44'],\n",
       "       ['CDH1', '45'],\n",
       "       ['CDK12', '46'],\n",
       "       ['CDK4', '47'],\n",
       "       ['CDKN1A', '48'],\n",
       "       ['CDKN1B', '49'],\n",
       "       ['CDKN2A', '50'],\n",
       "       ['CDKN2C', '51'],\n",
       "       ['CEBPA', '52'],\n",
       "       ['CHD3', '53'],\n",
       "       ['CHD4', '54'],\n",
       "       ['CHD8', '55'],\n",
       "       ['CHEK2', '56'],\n",
       "       ['CIC', '57'],\n",
       "       ['CNBD1', '58'],\n",
       "       ['COL5A1', '59'],\n",
       "       ['CREB3L3', '60'],\n",
       "       ['CREBBP', '61'],\n",
       "       ['CSDE1', '62'],\n",
       "       ['CTCF', '63'],\n",
       "       ['CTNNB1', '64'],\n",
       "       ['CTNND1', '65'],\n",
       "       ['CUL1', '66'],\n",
       "       ['CUL3', '67'],\n",
       "       ['CYLD', '68'],\n",
       "       ['CYSLTR2', '69'],\n",
       "       ['DACH1', '70'],\n",
       "       ['DAZAP1', '71'],\n",
       "       ['DDX3X', '72'],\n",
       "       ['DHX9', '73'],\n",
       "       ['DIAPH2', '74'],\n",
       "       ['DICER1', '75'],\n",
       "       ['DMD', '76'],\n",
       "       ['DNMT3A', '77'],\n",
       "       ['EEF1A1', '78'],\n",
       "       ['EEF2', '79'],\n",
       "       ['EGFR', '80'],\n",
       "       ['EGR3', '81'],\n",
       "       ['EIF1AX', '82'],\n",
       "       ['ELF3', '83'],\n",
       "       ['EP300', '84'],\n",
       "       ['EPAS1', '85'],\n",
       "       ['EPHA2', '86'],\n",
       "       ['EPHA3', '87'],\n",
       "       ['ERBB2', '88'],\n",
       "       ['ERBB3', '89'],\n",
       "       ['ERBB4', '90'],\n",
       "       ['ERCC2', '91'],\n",
       "       ['ESR1', '92'],\n",
       "       ['EZH2', '93'],\n",
       "       ['FAM46D', '94'],\n",
       "       ['FAT1', '95'],\n",
       "       ['FBXW7', '96'],\n",
       "       ['FGFR1', '97'],\n",
       "       ['FGFR2', '98'],\n",
       "       ['FGFR3', '99'],\n",
       "       ['FLNA', '100'],\n",
       "       ['FLT3', '101'],\n",
       "       ['FOXA1', '102'],\n",
       "       ['FOXA2', '103'],\n",
       "       ['FOXQ1', '104'],\n",
       "       ['FUBP1', '105'],\n",
       "       ['GABRA6', '106'],\n",
       "       ['GATA3', '107'],\n",
       "       ['GNA11', '108'],\n",
       "       ['GNA13', '109'],\n",
       "       ['GNAQ', '110'],\n",
       "       ['GNAS', '111'],\n",
       "       ['GPS2', '112'],\n",
       "       ['GRIN2D', '113'],\n",
       "       ['GTF2I', '114'],\n",
       "       ['H3F3A', '115'],\n",
       "       ['H3F3C', '116'],\n",
       "       ['HGF', '117'],\n",
       "       ['HIST1H1C', '118'],\n",
       "       ['HIST1H1E', '119'],\n",
       "       ['HLA-A', '120'],\n",
       "       ['HLA-B', '121'],\n",
       "       ['HRAS', '122'],\n",
       "       ['HUWE1', '123'],\n",
       "       ['IDH1', '124'],\n",
       "       ['IDH2', '125'],\n",
       "       ['IL6ST', '126'],\n",
       "       ['IL7R', '127'],\n",
       "       ['INPPL1', '128'],\n",
       "       ['IRF2', '129'],\n",
       "       ['IRF6', '130'],\n",
       "       ['JAK1', '131'],\n",
       "       ['JAK2', '132'],\n",
       "       ['JAK3', '133'],\n",
       "       ['KANSL1', '134'],\n",
       "       ['KDM5C', '135'],\n",
       "       ['KDM6A', '136'],\n",
       "       ['KEAP1', '137'],\n",
       "       ['KEL', '138'],\n",
       "       ['KIF1A', '139'],\n",
       "       ['KIT', '140'],\n",
       "       ['KLF5', '141'],\n",
       "       ['KMT2A', '142'],\n",
       "       ['KMT2B', '143'],\n",
       "       ['KMT2C', '144'],\n",
       "       ['KMT2D', '145'],\n",
       "       ['KRAS', '146'],\n",
       "       ['KRT222', '147'],\n",
       "       ['LATS1', '148'],\n",
       "       ['LATS2', '149'],\n",
       "       ['LEMD2', '150'],\n",
       "       ['LZTR1', '151'],\n",
       "       ['MACF1', '152'],\n",
       "       ['MAP2K1', '153'],\n",
       "       ['MAP2K4', '154'],\n",
       "       ['MAP3K1', '155'],\n",
       "       ['MAP3K4', '156'],\n",
       "       ['MAPK1', '157'],\n",
       "       ['MAX', '158'],\n",
       "       ['MECOM', '159'],\n",
       "       ['MED12', '160'],\n",
       "       ['MEN1', '161'],\n",
       "       ['MET', '162'],\n",
       "       ['MGA', '163'],\n",
       "       ['MGMT', '164'],\n",
       "       ['MLH1', '165'],\n",
       "       ['MSH2', '166'],\n",
       "       ['MSH3', '167'],\n",
       "       ['MSH6', '168'],\n",
       "       ['MTOR', '169'],\n",
       "       ['MUC6', '170'],\n",
       "       ['MYC', '171'],\n",
       "       ['MYCN', '172'],\n",
       "       ['MYD88', '173'],\n",
       "       ['MYH9', '174'],\n",
       "       ['NCOR1', '175'],\n",
       "       ['NF1', '176'],\n",
       "       ['NF2', '177'],\n",
       "       ['NFE2L2', '178'],\n",
       "       ['NIPBL', '179'],\n",
       "       ['NOTCH1', '180'],\n",
       "       ['NOTCH2', '181'],\n",
       "       ['NPM1', '182'],\n",
       "       ['NRAS', '183'],\n",
       "       ['NSD1', '184'],\n",
       "       ['NUP133', '185'],\n",
       "       ['NUP93', '186'],\n",
       "       ['PAX5', '187'],\n",
       "       ['PBRM1', '188'],\n",
       "       ['PCBP1', '189'],\n",
       "       ['PDGFRA', '190'],\n",
       "       ['PDS5B', '191'],\n",
       "       ['PGR', '192'],\n",
       "       ['PHF6', '193'],\n",
       "       ['PIK3CA', '194'],\n",
       "       ['PIK3CB', '195'],\n",
       "       ['PIK3CG', '196'],\n",
       "       ['PIK3R1', '197'],\n",
       "       ['PIK3R2', '198'],\n",
       "       ['PIM1', '199'],\n",
       "       ['PLCB4', '200'],\n",
       "       ['PLCG1', '201'],\n",
       "       ['PLXNB2', '202'],\n",
       "       ['PMS1', '203'],\n",
       "       ['PMS2', '204'],\n",
       "       ['POLE', '205'],\n",
       "       ['POLQ', '206'],\n",
       "       ['POLRMT', '207'],\n",
       "       ['PPM1D', '208'],\n",
       "       ['PPP2R1A', '209'],\n",
       "       ['PPP6C', '210'],\n",
       "       ['PRKAR1A', '211'],\n",
       "       ['PSIP1', '212'],\n",
       "       ['PTCH1', '213'],\n",
       "       ['PTEN', '214'],\n",
       "       ['PTMA', '215'],\n",
       "       ['PTPDC1', '216'],\n",
       "       ['PTPN11', '217'],\n",
       "       ['PTPRC', '218'],\n",
       "       ['PTPRD', '219'],\n",
       "       ['RAC1', '220'],\n",
       "       ['RAD21', '221'],\n",
       "       ['RAF1', '222'],\n",
       "       ['RARA', '223'],\n",
       "       ['RASA1', '224'],\n",
       "       ['RB1', '225'],\n",
       "       ['RBM10', '226'],\n",
       "       ['RET', '227'],\n",
       "       ['RFC1', '228'],\n",
       "       ['RHEB', '229'],\n",
       "       ['RHOA', '230'],\n",
       "       ['RHOB', '231'],\n",
       "       ['RIT1', '232'],\n",
       "       ['RNF111', '233'],\n",
       "       ['RNF43', '234'],\n",
       "       ['RPL22', '235'],\n",
       "       ['RPL5', '236'],\n",
       "       ['RPS6KA3', '237'],\n",
       "       ['RQCD1', '238'],\n",
       "       ['RRAS2', '239'],\n",
       "       ['RUNX1', '240'],\n",
       "       ['RXRA', '241'],\n",
       "       ['SCAF4', '242'],\n",
       "       ['SETBP1', '243'],\n",
       "       ['SETD2', '244'],\n",
       "       ['SF1', '245'],\n",
       "       ['SF3B1', '246'],\n",
       "       ['SIN3A', '247'],\n",
       "       ['SMAD2', '248'],\n",
       "       ['SMAD4', '249'],\n",
       "       ['SMARCA1', '250'],\n",
       "       ['SMARCA4', '251'],\n",
       "       ['SMARCB1', '252'],\n",
       "       ['SMC1A', '253'],\n",
       "       ['SMC3', '254'],\n",
       "       ['SOS1', '255'],\n",
       "       ['SOX17', '256'],\n",
       "       ['SOX9', '257'],\n",
       "       ['SPOP', '258'],\n",
       "       ['SPTA1', '259'],\n",
       "       ['SPTAN1', '260'],\n",
       "       ['SRSF2', '261'],\n",
       "       ['STAG2', '262'],\n",
       "       ['STK11', '263'],\n",
       "       ['TAF1', '264'],\n",
       "       ['TBL1XR1', '265'],\n",
       "       ['TBX3', '266'],\n",
       "       ['TCEB1', '267'],\n",
       "       ['TCF12', '268'],\n",
       "       ['TCF7L2', '269'],\n",
       "       ['TET2', '270'],\n",
       "       ['TGFBR2', '271'],\n",
       "       ['TGIF1', '272'],\n",
       "       ['THRAP3', '273'],\n",
       "       ['TLR4', '274'],\n",
       "       ['TMSB4X', '275'],\n",
       "       ['TNFAIP3', '276'],\n",
       "       ['TP53', '277'],\n",
       "       ['TRAF3', '278'],\n",
       "       ['TSC1', '279'],\n",
       "       ['TSC2', '280'],\n",
       "       ['TXNIP', '281'],\n",
       "       ['U2AF1', '282'],\n",
       "       ['UNCX', '283'],\n",
       "       ['USP9X', '284'],\n",
       "       ['VHL', '285'],\n",
       "       ['WHSC1', '286'],\n",
       "       ['WT1', '287'],\n",
       "       ['XPO1', '288'],\n",
       "       ['ZBTB20', '289'],\n",
       "       ['ZBTB7B', '290'],\n",
       "       ['ZC3H12A', '291'],\n",
       "       ['ZCCHC12', '292'],\n",
       "       ['ZFHX3', '293'],\n",
       "       ['ZFP36L1', '294'],\n",
       "       ['ZFP36L2', '295'],\n",
       "       ['ZMYM2', '296'],\n",
       "       ['ZMYM3', '297'],\n",
       "       ['ZNF133', '298'],\n",
       "       ['ZNF750', '299']], dtype='<U18')"
      ]
     },
     "execution_count": 40,
     "metadata": {},
     "output_type": "execute_result"
    }
   ],
   "source": [
    "gene_names"
   ]
  },
  {
   "cell_type": "code",
   "execution_count": 54,
   "metadata": {},
   "outputs": [
    {
     "data": {
      "text/plain": [
       "(8696, 300)"
      ]
     },
     "execution_count": 54,
     "metadata": {},
     "output_type": "execute_result"
    }
   ],
   "source": [
    "gene_names[0]\n",
    "cancer_name = np.loadtxt('data_gene_TCGA_LF.txt')"
   ]
  },
  {
   "cell_type": "code",
   "execution_count": 57,
   "metadata": {},
   "outputs": [
    {
     "data": {
      "text/plain": [
       "Ridge(alpha=0.05, copy_X=True, fit_intercept=True, max_iter=None,\n",
       "   normalize=False, random_state=None, solver='auto', tol=0.001)"
      ]
     },
     "execution_count": 57,
     "metadata": {},
     "output_type": "execute_result"
    }
   ],
   "source": [
    "x = np.concatenate((gene, cancer), axis=1)\n",
    "y = lf\n",
    "ridge_regr = linear_model.Ridge(alpha=.05)\n",
    "ridge_regr.fit(x, lf)\n",
    "#      ridge_y_pred = ridge_regr.predict(x_test)       "
   ]
  },
  {
   "cell_type": "code",
   "execution_count": 63,
   "metadata": {},
   "outputs": [],
   "source": [
    "coef = np.transpose(ridge_regr.coef_)\n",
    "\n",
    "sort_list = sorted(range(len(coef)), key=lambda k: coef[k])\n",
    "gene_names[sort_list[0:10]]\n",
    "\n",
    "abs_coef = abs(coef)\n",
    "abs_sort_list = sorted(range(len(coef)), key=lambda k: abs_coef[k])\n",
    "gene_names[abs_sort_list[0:10]]\n",
    "len(abs_sort_list)\n",
    "\n",
    "fig = plt.gcf()\n",
    "plt.title(\"Weights of the model\")\n",
    "plt.plot(ridge_regr.coef_, color='r', linestyle='-')\n",
    "plt.xlabel(\"Features\")\n",
    "plt.ylabel(\"Values of the weights\")\n",
    "plt.legend(loc=\"best\", prop=dict(size=12))\n",
    "plt.show()\n",
    "#fig.savefig(\"./fig/\"+histfile[j] + \"_weight.png\",bbox_inches='tight',                transparent=False,               pad_inches=0.1)"
   ]
  },
  {
   "cell_type": "code",
   "execution_count": 6,
   "metadata": {},
   "outputs": [
    {
     "name": "stdout",
     "output_type": "stream",
     "text": [
      "(300,)\n",
      "[[ 7]\n",
      " [ 7]\n",
      " [ 7]\n",
      " ...\n",
      " [13]\n",
      " [ 4]\n",
      " [ 3]]\n"
     ]
    }
   ],
   "source": [
    "# concatenate gcta feature\n",
    "gcta = X[:,[299]]\n",
    "gcta = gcta - 1\n",
    "x_gcta = np.zeros((gcta.shape[0], 30), dtype=int)\n",
    "for i in range(0, gcta.shape[0]):\n",
    "    x_gcta[i,gcta[i]] = 1\n",
    "fea_x = np.concatenate((trans_data_X, x_gcta), axis=1)\n",
    "'''\n",
    "fea_x = np.concatenate((trans_data_X, gcta), axis=1)\n",
    "print(trans_data_X.shape, gcta.shape, fea_x.shape)\n",
    "'''\n",
    "print(X[1,:].shape)\n",
    "print(gcta)"
   ]
  },
  {
   "cell_type": "code",
   "execution_count": 516,
   "metadata": {},
   "outputs": [
    {
     "name": "stderr",
     "output_type": "stream",
     "text": [
      "WARNING:matplotlib.legend:No handles with labels found to put in legend.\n"
     ]
    },
    {
     "name": "stdout",
     "output_type": "stream",
     "text": [
      "[ 1  2  3  4  5  6  7  8  9 10 11 12 13 14 15 16 17 18 19 20 21 22 23 24\n",
      " 25 26 27 28 29 30]\n",
      "[ 47 403 911 262  34 376 175 291 484  42 313 204 481 335 524 460  66 393\n",
      " 154  82 311 124 165 451 413  68 375 513  57  80]\n",
      "8594\n",
      "911 34 286.46666666666664\n",
      "[ 0  1  2  3  4  5  6  7  8  9 10 11 12 13 14 15 16 17 18 19 20 21 22 23\n",
      " 24 25 26 27 28 29]\n"
     ]
    },
    {
     "data": {
      "image/png": "[encoded data removed]",
      "text/plain": [
       "<Figure size 432x288 with 1 Axes>"
      ]
     },
     "metadata": {},
     "output_type": "display_data"
    }
   ],
   "source": [
    "a=X[:,[299]]\n",
    "unique, unique_counts = np.unique(a, return_counts=True)\n",
    "print(unique)\n",
    "print(unique_counts)\n",
    "print(sum(unique_counts))\n",
    "print(np.amax(unique_counts), np.amin(unique_counts), np.average(unique_counts))\n",
    "print(np.arange(0,30))\n",
    "fig1=plt.gcf()\n",
    "plt.title(\"Histogram of Cancer Type\")\n",
    "#plt.hist(unique_counts, bins=np.arange(0,30))\n",
    "plt.bar(np.arange(1,31), unique_counts )\n",
    "#plt.hist(unique_counts, bins=np.arange(unique_counts.min(), unique_counts.max()+1))\n",
    "plt.xlabel(\"Index of cancer type\")\n",
    "plt.ylabel(\" Number of patients \")\n",
    "plt.legend(loc=\"upper left\")\n",
    "#plt.xlim(0, 1000)\n",
    "plt.show()\n",
    "fig1.savefig(\"./report/fig/distribute_cancer.png\",bbox_inches='tight', \n",
    "           transparent=False,pad_inches=0.1)\n"
   ]
  },
  {
   "cell_type": "code",
   "execution_count": 498,
   "metadata": {},
   "outputs": [],
   "source": [
    "# Split the targets into training/testing sets\n",
    "i = 0\n",
    "n_iter = 50\n",
    "mean_r2 = np.zeros((4, 2), dtype=float)\n",
    "coef = np.zeros((329, 4), dtype=float)\n",
    "fgind = np.zeros((10, n_iter), dtype=int)\n",
    "vgind = np.zeros((1,n_iter), dtype=int)"
   ]
  },
  {
   "cell_type": "code",
   "execution_count": 499,
   "metadata": {},
   "outputs": [
    {
     "name": "stdout",
     "output_type": "stream",
     "text": [
      "(5757, 329) (5757, 1) (2837, 329) (2837, 1)\n",
      "(5757, 1)\n",
      "(10,)\n"
     ]
    },
    {
     "name": "stderr",
     "output_type": "stream",
     "text": [
      "/Library/Frameworks/Python.framework/Versions/3.6/lib/python3.6/site-packages/sklearn/feature_selection/univariate_selection.py:299: RuntimeWarning: invalid value encountered in true_divide\n",
      "  corr /= X_norms\n",
      "/Library/Frameworks/Python.framework/Versions/3.6/lib/python3.6/site-packages/scipy/stats/_distn_infrastructure.py:877: RuntimeWarning: invalid value encountered in greater\n",
      "  return (self.a < x) & (x < self.b)\n",
      "/Library/Frameworks/Python.framework/Versions/3.6/lib/python3.6/site-packages/scipy/stats/_distn_infrastructure.py:877: RuntimeWarning: invalid value encountered in less\n",
      "  return (self.a < x) & (x < self.b)\n",
      "/Library/Frameworks/Python.framework/Versions/3.6/lib/python3.6/site-packages/scipy/stats/_distn_infrastructure.py:1831: RuntimeWarning: invalid value encountered in less_equal\n",
      "  cond2 = cond0 & (x <= self.a)\n"
     ]
    },
    {
     "name": "stdout",
     "output_type": "stream",
     "text": [
      "(329, 1) (329,) (329,) (329,)\n",
      "(5757, 329) (5757, 1) (2837, 329) (2837, 1)\n",
      "(5757, 1)\n",
      "(10,)\n"
     ]
    },
    {
     "name": "stderr",
     "output_type": "stream",
     "text": [
      "/Library/Frameworks/Python.framework/Versions/3.6/lib/python3.6/site-packages/sklearn/feature_selection/univariate_selection.py:299: RuntimeWarning: invalid value encountered in true_divide\n",
      "  corr /= X_norms\n",
      "/Library/Frameworks/Python.framework/Versions/3.6/lib/python3.6/site-packages/scipy/stats/_distn_infrastructure.py:877: RuntimeWarning: invalid value encountered in greater\n",
      "  return (self.a < x) & (x < self.b)\n",
      "/Library/Frameworks/Python.framework/Versions/3.6/lib/python3.6/site-packages/scipy/stats/_distn_infrastructure.py:877: RuntimeWarning: invalid value encountered in less\n",
      "  return (self.a < x) & (x < self.b)\n",
      "/Library/Frameworks/Python.framework/Versions/3.6/lib/python3.6/site-packages/scipy/stats/_distn_infrastructure.py:1831: RuntimeWarning: invalid value encountered in less_equal\n",
      "  cond2 = cond0 & (x <= self.a)\n"
     ]
    },
    {
     "name": "stdout",
     "output_type": "stream",
     "text": [
      "(329, 1) (329,) (329,) (329,)\n",
      "(5757, 329) (5757, 1) (2837, 329) (2837, 1)\n",
      "(5757, 1)\n",
      "(10,)\n"
     ]
    },
    {
     "name": "stderr",
     "output_type": "stream",
     "text": [
      "/Library/Frameworks/Python.framework/Versions/3.6/lib/python3.6/site-packages/sklearn/feature_selection/univariate_selection.py:299: RuntimeWarning: invalid value encountered in true_divide\n",
      "  corr /= X_norms\n",
      "/Library/Frameworks/Python.framework/Versions/3.6/lib/python3.6/site-packages/scipy/stats/_distn_infrastructure.py:877: RuntimeWarning: invalid value encountered in greater\n",
      "  return (self.a < x) & (x < self.b)\n",
      "/Library/Frameworks/Python.framework/Versions/3.6/lib/python3.6/site-packages/scipy/stats/_distn_infrastructure.py:877: RuntimeWarning: invalid value encountered in less\n",
      "  return (self.a < x) & (x < self.b)\n",
      "/Library/Frameworks/Python.framework/Versions/3.6/lib/python3.6/site-packages/scipy/stats/_distn_infrastructure.py:1831: RuntimeWarning: invalid value encountered in less_equal\n",
      "  cond2 = cond0 & (x <= self.a)\n"
     ]
    },
    {
     "name": "stdout",
     "output_type": "stream",
     "text": [
      "(329, 1) (329,) (329,) (329,)\n",
      "(5757, 329) (5757, 1) (2837, 329) (2837, 1)\n",
      "(5757, 1)\n",
      "(10,)\n"
     ]
    },
    {
     "name": "stderr",
     "output_type": "stream",
     "text": [
      "/Library/Frameworks/Python.framework/Versions/3.6/lib/python3.6/site-packages/sklearn/feature_selection/univariate_selection.py:299: RuntimeWarning: invalid value encountered in true_divide\n",
      "  corr /= X_norms\n",
      "/Library/Frameworks/Python.framework/Versions/3.6/lib/python3.6/site-packages/scipy/stats/_distn_infrastructure.py:877: RuntimeWarning: invalid value encountered in greater\n",
      "  return (self.a < x) & (x < self.b)\n",
      "/Library/Frameworks/Python.framework/Versions/3.6/lib/python3.6/site-packages/scipy/stats/_distn_infrastructure.py:877: RuntimeWarning: invalid value encountered in less\n",
      "  return (self.a < x) & (x < self.b)\n",
      "/Library/Frameworks/Python.framework/Versions/3.6/lib/python3.6/site-packages/scipy/stats/_distn_infrastructure.py:1831: RuntimeWarning: invalid value encountered in less_equal\n",
      "  cond2 = cond0 & (x <= self.a)\n"
     ]
    },
    {
     "name": "stdout",
     "output_type": "stream",
     "text": [
      "(329, 1) (329,) (329,) (329,)\n",
      "(5757, 329) (5757, 1) (2837, 329) (2837, 1)\n",
      "(5757, 1)\n",
      "(10,)\n"
     ]
    },
    {
     "name": "stderr",
     "output_type": "stream",
     "text": [
      "/Library/Frameworks/Python.framework/Versions/3.6/lib/python3.6/site-packages/sklearn/feature_selection/univariate_selection.py:299: RuntimeWarning: invalid value encountered in true_divide\n",
      "  corr /= X_norms\n",
      "/Library/Frameworks/Python.framework/Versions/3.6/lib/python3.6/site-packages/scipy/stats/_distn_infrastructure.py:877: RuntimeWarning: invalid value encountered in greater\n",
      "  return (self.a < x) & (x < self.b)\n",
      "/Library/Frameworks/Python.framework/Versions/3.6/lib/python3.6/site-packages/scipy/stats/_distn_infrastructure.py:877: RuntimeWarning: invalid value encountered in less\n",
      "  return (self.a < x) & (x < self.b)\n",
      "/Library/Frameworks/Python.framework/Versions/3.6/lib/python3.6/site-packages/scipy/stats/_distn_infrastructure.py:1831: RuntimeWarning: invalid value encountered in less_equal\n",
      "  cond2 = cond0 & (x <= self.a)\n"
     ]
    },
    {
     "name": "stdout",
     "output_type": "stream",
     "text": [
      "(329, 1) (329,) (329,) (329,)\n",
      "(5757, 329) (5757, 1) (2837, 329) (2837, 1)\n",
      "(5757, 1)\n",
      "(10,)\n"
     ]
    },
    {
     "name": "stderr",
     "output_type": "stream",
     "text": [
      "/Library/Frameworks/Python.framework/Versions/3.6/lib/python3.6/site-packages/sklearn/feature_selection/univariate_selection.py:299: RuntimeWarning: invalid value encountered in true_divide\n",
      "  corr /= X_norms\n",
      "/Library/Frameworks/Python.framework/Versions/3.6/lib/python3.6/site-packages/scipy/stats/_distn_infrastructure.py:877: RuntimeWarning: invalid value encountered in greater\n",
      "  return (self.a < x) & (x < self.b)\n",
      "/Library/Frameworks/Python.framework/Versions/3.6/lib/python3.6/site-packages/scipy/stats/_distn_infrastructure.py:877: RuntimeWarning: invalid value encountered in less\n",
      "  return (self.a < x) & (x < self.b)\n",
      "/Library/Frameworks/Python.framework/Versions/3.6/lib/python3.6/site-packages/scipy/stats/_distn_infrastructure.py:1831: RuntimeWarning: invalid value encountered in less_equal\n",
      "  cond2 = cond0 & (x <= self.a)\n"
     ]
    },
    {
     "name": "stdout",
     "output_type": "stream",
     "text": [
      "(329, 1) (329,) (329,) (329,)\n",
      "(5757, 329) (5757, 1) (2837, 329) (2837, 1)\n",
      "(5757, 1)\n",
      "(10,)\n"
     ]
    },
    {
     "name": "stderr",
     "output_type": "stream",
     "text": [
      "/Library/Frameworks/Python.framework/Versions/3.6/lib/python3.6/site-packages/sklearn/feature_selection/univariate_selection.py:299: RuntimeWarning: invalid value encountered in true_divide\n",
      "  corr /= X_norms\n",
      "/Library/Frameworks/Python.framework/Versions/3.6/lib/python3.6/site-packages/scipy/stats/_distn_infrastructure.py:877: RuntimeWarning: invalid value encountered in greater\n",
      "  return (self.a < x) & (x < self.b)\n",
      "/Library/Frameworks/Python.framework/Versions/3.6/lib/python3.6/site-packages/scipy/stats/_distn_infrastructure.py:877: RuntimeWarning: invalid value encountered in less\n",
      "  return (self.a < x) & (x < self.b)\n",
      "/Library/Frameworks/Python.framework/Versions/3.6/lib/python3.6/site-packages/scipy/stats/_distn_infrastructure.py:1831: RuntimeWarning: invalid value encountered in less_equal\n",
      "  cond2 = cond0 & (x <= self.a)\n"
     ]
    },
    {
     "name": "stdout",
     "output_type": "stream",
     "text": [
      "(329, 1) (329,) (329,) (329,)\n",
      "(5757, 329) (5757, 1) (2837, 329) (2837, 1)\n",
      "(5757, 1)\n",
      "(10,)\n"
     ]
    },
    {
     "name": "stderr",
     "output_type": "stream",
     "text": [
      "/Library/Frameworks/Python.framework/Versions/3.6/lib/python3.6/site-packages/sklearn/feature_selection/univariate_selection.py:299: RuntimeWarning: invalid value encountered in true_divide\n",
      "  corr /= X_norms\n",
      "/Library/Frameworks/Python.framework/Versions/3.6/lib/python3.6/site-packages/scipy/stats/_distn_infrastructure.py:877: RuntimeWarning: invalid value encountered in greater\n",
      "  return (self.a < x) & (x < self.b)\n",
      "/Library/Frameworks/Python.framework/Versions/3.6/lib/python3.6/site-packages/scipy/stats/_distn_infrastructure.py:877: RuntimeWarning: invalid value encountered in less\n",
      "  return (self.a < x) & (x < self.b)\n",
      "/Library/Frameworks/Python.framework/Versions/3.6/lib/python3.6/site-packages/scipy/stats/_distn_infrastructure.py:1831: RuntimeWarning: invalid value encountered in less_equal\n",
      "  cond2 = cond0 & (x <= self.a)\n"
     ]
    },
    {
     "name": "stdout",
     "output_type": "stream",
     "text": [
      "(329, 1) (329,) (329,) (329,)\n",
      "(5757, 329) (5757, 1) (2837, 329) (2837, 1)\n",
      "(5757, 1)\n",
      "(10,)\n"
     ]
    },
    {
     "name": "stderr",
     "output_type": "stream",
     "text": [
      "/Library/Frameworks/Python.framework/Versions/3.6/lib/python3.6/site-packages/sklearn/feature_selection/univariate_selection.py:299: RuntimeWarning: invalid value encountered in true_divide\n",
      "  corr /= X_norms\n",
      "/Library/Frameworks/Python.framework/Versions/3.6/lib/python3.6/site-packages/scipy/stats/_distn_infrastructure.py:877: RuntimeWarning: invalid value encountered in greater\n",
      "  return (self.a < x) & (x < self.b)\n",
      "/Library/Frameworks/Python.framework/Versions/3.6/lib/python3.6/site-packages/scipy/stats/_distn_infrastructure.py:877: RuntimeWarning: invalid value encountered in less\n",
      "  return (self.a < x) & (x < self.b)\n",
      "/Library/Frameworks/Python.framework/Versions/3.6/lib/python3.6/site-packages/scipy/stats/_distn_infrastructure.py:1831: RuntimeWarning: invalid value encountered in less_equal\n",
      "  cond2 = cond0 & (x <= self.a)\n"
     ]
    },
    {
     "name": "stdout",
     "output_type": "stream",
     "text": [
      "(329, 1) (329,) (329,) (329,)\n",
      "(5757, 329) (5757, 1) (2837, 329) (2837, 1)\n",
      "(5757, 1)\n",
      "(10,)\n"
     ]
    },
    {
     "name": "stderr",
     "output_type": "stream",
     "text": [
      "/Library/Frameworks/Python.framework/Versions/3.6/lib/python3.6/site-packages/sklearn/feature_selection/univariate_selection.py:299: RuntimeWarning: invalid value encountered in true_divide\n",
      "  corr /= X_norms\n",
      "/Library/Frameworks/Python.framework/Versions/3.6/lib/python3.6/site-packages/scipy/stats/_distn_infrastructure.py:877: RuntimeWarning: invalid value encountered in greater\n",
      "  return (self.a < x) & (x < self.b)\n",
      "/Library/Frameworks/Python.framework/Versions/3.6/lib/python3.6/site-packages/scipy/stats/_distn_infrastructure.py:877: RuntimeWarning: invalid value encountered in less\n",
      "  return (self.a < x) & (x < self.b)\n",
      "/Library/Frameworks/Python.framework/Versions/3.6/lib/python3.6/site-packages/scipy/stats/_distn_infrastructure.py:1831: RuntimeWarning: invalid value encountered in less_equal\n",
      "  cond2 = cond0 & (x <= self.a)\n"
     ]
    },
    {
     "name": "stdout",
     "output_type": "stream",
     "text": [
      "(329, 1) (329,) (329,) (329,)\n",
      "(5757, 329) (5757, 1) (2837, 329) (2837, 1)\n",
      "(5757, 1)\n",
      "(10,)\n"
     ]
    },
    {
     "name": "stderr",
     "output_type": "stream",
     "text": [
      "/Library/Frameworks/Python.framework/Versions/3.6/lib/python3.6/site-packages/sklearn/feature_selection/univariate_selection.py:299: RuntimeWarning: invalid value encountered in true_divide\n",
      "  corr /= X_norms\n",
      "/Library/Frameworks/Python.framework/Versions/3.6/lib/python3.6/site-packages/scipy/stats/_distn_infrastructure.py:877: RuntimeWarning: invalid value encountered in greater\n",
      "  return (self.a < x) & (x < self.b)\n",
      "/Library/Frameworks/Python.framework/Versions/3.6/lib/python3.6/site-packages/scipy/stats/_distn_infrastructure.py:877: RuntimeWarning: invalid value encountered in less\n",
      "  return (self.a < x) & (x < self.b)\n",
      "/Library/Frameworks/Python.framework/Versions/3.6/lib/python3.6/site-packages/scipy/stats/_distn_infrastructure.py:1831: RuntimeWarning: invalid value encountered in less_equal\n",
      "  cond2 = cond0 & (x <= self.a)\n"
     ]
    },
    {
     "name": "stdout",
     "output_type": "stream",
     "text": [
      "(329, 1) (329,) (329,) (329,)\n",
      "(5757, 329) (5757, 1) (2837, 329) (2837, 1)\n",
      "(5757, 1)\n",
      "(10,)\n"
     ]
    },
    {
     "name": "stderr",
     "output_type": "stream",
     "text": [
      "/Library/Frameworks/Python.framework/Versions/3.6/lib/python3.6/site-packages/sklearn/feature_selection/univariate_selection.py:299: RuntimeWarning: invalid value encountered in true_divide\n",
      "  corr /= X_norms\n",
      "/Library/Frameworks/Python.framework/Versions/3.6/lib/python3.6/site-packages/scipy/stats/_distn_infrastructure.py:877: RuntimeWarning: invalid value encountered in greater\n",
      "  return (self.a < x) & (x < self.b)\n",
      "/Library/Frameworks/Python.framework/Versions/3.6/lib/python3.6/site-packages/scipy/stats/_distn_infrastructure.py:877: RuntimeWarning: invalid value encountered in less\n",
      "  return (self.a < x) & (x < self.b)\n",
      "/Library/Frameworks/Python.framework/Versions/3.6/lib/python3.6/site-packages/scipy/stats/_distn_infrastructure.py:1831: RuntimeWarning: invalid value encountered in less_equal\n",
      "  cond2 = cond0 & (x <= self.a)\n"
     ]
    },
    {
     "name": "stdout",
     "output_type": "stream",
     "text": [
      "(329, 1) (329,) (329,) (329,)\n",
      "(5757, 329) (5757, 1) (2837, 329) (2837, 1)\n",
      "(5757, 1)\n",
      "(10,)\n"
     ]
    },
    {
     "name": "stderr",
     "output_type": "stream",
     "text": [
      "/Library/Frameworks/Python.framework/Versions/3.6/lib/python3.6/site-packages/sklearn/feature_selection/univariate_selection.py:299: RuntimeWarning: invalid value encountered in true_divide\n",
      "  corr /= X_norms\n",
      "/Library/Frameworks/Python.framework/Versions/3.6/lib/python3.6/site-packages/scipy/stats/_distn_infrastructure.py:877: RuntimeWarning: invalid value encountered in greater\n",
      "  return (self.a < x) & (x < self.b)\n",
      "/Library/Frameworks/Python.framework/Versions/3.6/lib/python3.6/site-packages/scipy/stats/_distn_infrastructure.py:877: RuntimeWarning: invalid value encountered in less\n",
      "  return (self.a < x) & (x < self.b)\n",
      "/Library/Frameworks/Python.framework/Versions/3.6/lib/python3.6/site-packages/scipy/stats/_distn_infrastructure.py:1831: RuntimeWarning: invalid value encountered in less_equal\n",
      "  cond2 = cond0 & (x <= self.a)\n"
     ]
    },
    {
     "name": "stdout",
     "output_type": "stream",
     "text": [
      "(329, 1) (329,) (329,) (329,)\n",
      "(5757, 329) (5757, 1) (2837, 329) (2837, 1)\n",
      "(5757, 1)\n",
      "(10,)\n"
     ]
    },
    {
     "name": "stderr",
     "output_type": "stream",
     "text": [
      "/Library/Frameworks/Python.framework/Versions/3.6/lib/python3.6/site-packages/sklearn/feature_selection/univariate_selection.py:299: RuntimeWarning: invalid value encountered in true_divide\n",
      "  corr /= X_norms\n",
      "/Library/Frameworks/Python.framework/Versions/3.6/lib/python3.6/site-packages/scipy/stats/_distn_infrastructure.py:877: RuntimeWarning: invalid value encountered in greater\n",
      "  return (self.a < x) & (x < self.b)\n",
      "/Library/Frameworks/Python.framework/Versions/3.6/lib/python3.6/site-packages/scipy/stats/_distn_infrastructure.py:877: RuntimeWarning: invalid value encountered in less\n",
      "  return (self.a < x) & (x < self.b)\n",
      "/Library/Frameworks/Python.framework/Versions/3.6/lib/python3.6/site-packages/scipy/stats/_distn_infrastructure.py:1831: RuntimeWarning: invalid value encountered in less_equal\n",
      "  cond2 = cond0 & (x <= self.a)\n"
     ]
    },
    {
     "name": "stdout",
     "output_type": "stream",
     "text": [
      "(329, 1) (329,) (329,) (329,)\n",
      "(5757, 329) (5757, 1) (2837, 329) (2837, 1)\n",
      "(5757, 1)\n",
      "(10,)\n"
     ]
    },
    {
     "name": "stderr",
     "output_type": "stream",
     "text": [
      "/Library/Frameworks/Python.framework/Versions/3.6/lib/python3.6/site-packages/sklearn/feature_selection/univariate_selection.py:299: RuntimeWarning: invalid value encountered in true_divide\n",
      "  corr /= X_norms\n",
      "/Library/Frameworks/Python.framework/Versions/3.6/lib/python3.6/site-packages/scipy/stats/_distn_infrastructure.py:877: RuntimeWarning: invalid value encountered in greater\n",
      "  return (self.a < x) & (x < self.b)\n",
      "/Library/Frameworks/Python.framework/Versions/3.6/lib/python3.6/site-packages/scipy/stats/_distn_infrastructure.py:877: RuntimeWarning: invalid value encountered in less\n",
      "  return (self.a < x) & (x < self.b)\n",
      "/Library/Frameworks/Python.framework/Versions/3.6/lib/python3.6/site-packages/scipy/stats/_distn_infrastructure.py:1831: RuntimeWarning: invalid value encountered in less_equal\n",
      "  cond2 = cond0 & (x <= self.a)\n"
     ]
    },
    {
     "name": "stdout",
     "output_type": "stream",
     "text": [
      "(329, 1) (329,) (329,) (329,)\n",
      "(5757, 329) (5757, 1) (2837, 329) (2837, 1)\n",
      "(5757, 1)\n",
      "(10,)\n"
     ]
    },
    {
     "name": "stderr",
     "output_type": "stream",
     "text": [
      "/Library/Frameworks/Python.framework/Versions/3.6/lib/python3.6/site-packages/sklearn/feature_selection/univariate_selection.py:299: RuntimeWarning: invalid value encountered in true_divide\n",
      "  corr /= X_norms\n",
      "/Library/Frameworks/Python.framework/Versions/3.6/lib/python3.6/site-packages/scipy/stats/_distn_infrastructure.py:877: RuntimeWarning: invalid value encountered in greater\n",
      "  return (self.a < x) & (x < self.b)\n",
      "/Library/Frameworks/Python.framework/Versions/3.6/lib/python3.6/site-packages/scipy/stats/_distn_infrastructure.py:877: RuntimeWarning: invalid value encountered in less\n",
      "  return (self.a < x) & (x < self.b)\n",
      "/Library/Frameworks/Python.framework/Versions/3.6/lib/python3.6/site-packages/scipy/stats/_distn_infrastructure.py:1831: RuntimeWarning: invalid value encountered in less_equal\n",
      "  cond2 = cond0 & (x <= self.a)\n"
     ]
    },
    {
     "name": "stdout",
     "output_type": "stream",
     "text": [
      "(329, 1) (329,) (329,) (329,)\n",
      "(5757, 329) (5757, 1) (2837, 329) (2837, 1)\n",
      "(5757, 1)\n",
      "(10,)\n"
     ]
    },
    {
     "name": "stderr",
     "output_type": "stream",
     "text": [
      "/Library/Frameworks/Python.framework/Versions/3.6/lib/python3.6/site-packages/sklearn/feature_selection/univariate_selection.py:299: RuntimeWarning: invalid value encountered in true_divide\n",
      "  corr /= X_norms\n",
      "/Library/Frameworks/Python.framework/Versions/3.6/lib/python3.6/site-packages/scipy/stats/_distn_infrastructure.py:877: RuntimeWarning: invalid value encountered in greater\n",
      "  return (self.a < x) & (x < self.b)\n",
      "/Library/Frameworks/Python.framework/Versions/3.6/lib/python3.6/site-packages/scipy/stats/_distn_infrastructure.py:877: RuntimeWarning: invalid value encountered in less\n",
      "  return (self.a < x) & (x < self.b)\n",
      "/Library/Frameworks/Python.framework/Versions/3.6/lib/python3.6/site-packages/scipy/stats/_distn_infrastructure.py:1831: RuntimeWarning: invalid value encountered in less_equal\n",
      "  cond2 = cond0 & (x <= self.a)\n"
     ]
    },
    {
     "name": "stdout",
     "output_type": "stream",
     "text": [
      "(329, 1) (329,) (329,) (329,)\n",
      "(5757, 329) (5757, 1) (2837, 329) (2837, 1)\n",
      "(5757, 1)\n",
      "(10,)\n"
     ]
    },
    {
     "name": "stderr",
     "output_type": "stream",
     "text": [
      "/Library/Frameworks/Python.framework/Versions/3.6/lib/python3.6/site-packages/sklearn/feature_selection/univariate_selection.py:299: RuntimeWarning: invalid value encountered in true_divide\n",
      "  corr /= X_norms\n",
      "/Library/Frameworks/Python.framework/Versions/3.6/lib/python3.6/site-packages/scipy/stats/_distn_infrastructure.py:877: RuntimeWarning: invalid value encountered in greater\n",
      "  return (self.a < x) & (x < self.b)\n",
      "/Library/Frameworks/Python.framework/Versions/3.6/lib/python3.6/site-packages/scipy/stats/_distn_infrastructure.py:877: RuntimeWarning: invalid value encountered in less\n",
      "  return (self.a < x) & (x < self.b)\n",
      "/Library/Frameworks/Python.framework/Versions/3.6/lib/python3.6/site-packages/scipy/stats/_distn_infrastructure.py:1831: RuntimeWarning: invalid value encountered in less_equal\n",
      "  cond2 = cond0 & (x <= self.a)\n"
     ]
    },
    {
     "name": "stdout",
     "output_type": "stream",
     "text": [
      "(329, 1) (329,) (329,) (329,)\n",
      "(5757, 329) (5757, 1) (2837, 329) (2837, 1)\n",
      "(5757, 1)\n",
      "(10,)\n"
     ]
    },
    {
     "name": "stderr",
     "output_type": "stream",
     "text": [
      "/Library/Frameworks/Python.framework/Versions/3.6/lib/python3.6/site-packages/sklearn/feature_selection/univariate_selection.py:299: RuntimeWarning: invalid value encountered in true_divide\n",
      "  corr /= X_norms\n",
      "/Library/Frameworks/Python.framework/Versions/3.6/lib/python3.6/site-packages/scipy/stats/_distn_infrastructure.py:877: RuntimeWarning: invalid value encountered in greater\n",
      "  return (self.a < x) & (x < self.b)\n",
      "/Library/Frameworks/Python.framework/Versions/3.6/lib/python3.6/site-packages/scipy/stats/_distn_infrastructure.py:877: RuntimeWarning: invalid value encountered in less\n",
      "  return (self.a < x) & (x < self.b)\n",
      "/Library/Frameworks/Python.framework/Versions/3.6/lib/python3.6/site-packages/scipy/stats/_distn_infrastructure.py:1831: RuntimeWarning: invalid value encountered in less_equal\n",
      "  cond2 = cond0 & (x <= self.a)\n"
     ]
    },
    {
     "name": "stdout",
     "output_type": "stream",
     "text": [
      "(329, 1) (329,) (329,) (329,)\n",
      "(5757, 329) (5757, 1) (2837, 329) (2837, 1)\n",
      "(5757, 1)\n",
      "(10,)\n"
     ]
    },
    {
     "name": "stderr",
     "output_type": "stream",
     "text": [
      "/Library/Frameworks/Python.framework/Versions/3.6/lib/python3.6/site-packages/sklearn/feature_selection/univariate_selection.py:299: RuntimeWarning: invalid value encountered in true_divide\n",
      "  corr /= X_norms\n",
      "/Library/Frameworks/Python.framework/Versions/3.6/lib/python3.6/site-packages/scipy/stats/_distn_infrastructure.py:877: RuntimeWarning: invalid value encountered in greater\n",
      "  return (self.a < x) & (x < self.b)\n",
      "/Library/Frameworks/Python.framework/Versions/3.6/lib/python3.6/site-packages/scipy/stats/_distn_infrastructure.py:877: RuntimeWarning: invalid value encountered in less\n",
      "  return (self.a < x) & (x < self.b)\n",
      "/Library/Frameworks/Python.framework/Versions/3.6/lib/python3.6/site-packages/scipy/stats/_distn_infrastructure.py:1831: RuntimeWarning: invalid value encountered in less_equal\n",
      "  cond2 = cond0 & (x <= self.a)\n"
     ]
    },
    {
     "name": "stdout",
     "output_type": "stream",
     "text": [
      "(329, 1) (329,) (329,) (329,)\n",
      "(5757, 329) (5757, 1) (2837, 329) (2837, 1)\n",
      "(5757, 1)\n",
      "(10,)\n"
     ]
    },
    {
     "name": "stderr",
     "output_type": "stream",
     "text": [
      "/Library/Frameworks/Python.framework/Versions/3.6/lib/python3.6/site-packages/sklearn/feature_selection/univariate_selection.py:299: RuntimeWarning: invalid value encountered in true_divide\n",
      "  corr /= X_norms\n",
      "/Library/Frameworks/Python.framework/Versions/3.6/lib/python3.6/site-packages/scipy/stats/_distn_infrastructure.py:877: RuntimeWarning: invalid value encountered in greater\n",
      "  return (self.a < x) & (x < self.b)\n",
      "/Library/Frameworks/Python.framework/Versions/3.6/lib/python3.6/site-packages/scipy/stats/_distn_infrastructure.py:877: RuntimeWarning: invalid value encountered in less\n",
      "  return (self.a < x) & (x < self.b)\n",
      "/Library/Frameworks/Python.framework/Versions/3.6/lib/python3.6/site-packages/scipy/stats/_distn_infrastructure.py:1831: RuntimeWarning: invalid value encountered in less_equal\n",
      "  cond2 = cond0 & (x <= self.a)\n"
     ]
    },
    {
     "name": "stdout",
     "output_type": "stream",
     "text": [
      "(329, 1) (329,) (329,) (329,)\n",
      "(5757, 329) (5757, 1) (2837, 329) (2837, 1)\n",
      "(5757, 1)\n",
      "(10,)\n"
     ]
    },
    {
     "name": "stderr",
     "output_type": "stream",
     "text": [
      "/Library/Frameworks/Python.framework/Versions/3.6/lib/python3.6/site-packages/sklearn/feature_selection/univariate_selection.py:299: RuntimeWarning: invalid value encountered in true_divide\n",
      "  corr /= X_norms\n",
      "/Library/Frameworks/Python.framework/Versions/3.6/lib/python3.6/site-packages/scipy/stats/_distn_infrastructure.py:877: RuntimeWarning: invalid value encountered in greater\n",
      "  return (self.a < x) & (x < self.b)\n",
      "/Library/Frameworks/Python.framework/Versions/3.6/lib/python3.6/site-packages/scipy/stats/_distn_infrastructure.py:877: RuntimeWarning: invalid value encountered in less\n",
      "  return (self.a < x) & (x < self.b)\n",
      "/Library/Frameworks/Python.framework/Versions/3.6/lib/python3.6/site-packages/scipy/stats/_distn_infrastructure.py:1831: RuntimeWarning: invalid value encountered in less_equal\n",
      "  cond2 = cond0 & (x <= self.a)\n"
     ]
    },
    {
     "name": "stdout",
     "output_type": "stream",
     "text": [
      "(329, 1) (329,) (329,) (329,)\n",
      "(5757, 329) (5757, 1) (2837, 329) (2837, 1)\n",
      "(5757, 1)\n",
      "(10,)\n"
     ]
    },
    {
     "name": "stderr",
     "output_type": "stream",
     "text": [
      "/Library/Frameworks/Python.framework/Versions/3.6/lib/python3.6/site-packages/sklearn/feature_selection/univariate_selection.py:299: RuntimeWarning: invalid value encountered in true_divide\n",
      "  corr /= X_norms\n",
      "/Library/Frameworks/Python.framework/Versions/3.6/lib/python3.6/site-packages/scipy/stats/_distn_infrastructure.py:877: RuntimeWarning: invalid value encountered in greater\n",
      "  return (self.a < x) & (x < self.b)\n",
      "/Library/Frameworks/Python.framework/Versions/3.6/lib/python3.6/site-packages/scipy/stats/_distn_infrastructure.py:877: RuntimeWarning: invalid value encountered in less\n",
      "  return (self.a < x) & (x < self.b)\n",
      "/Library/Frameworks/Python.framework/Versions/3.6/lib/python3.6/site-packages/scipy/stats/_distn_infrastructure.py:1831: RuntimeWarning: invalid value encountered in less_equal\n",
      "  cond2 = cond0 & (x <= self.a)\n"
     ]
    },
    {
     "name": "stdout",
     "output_type": "stream",
     "text": [
      "(329, 1) (329,) (329,) (329,)\n",
      "(5757, 329) (5757, 1) (2837, 329) (2837, 1)\n",
      "(5757, 1)\n",
      "(10,)\n"
     ]
    },
    {
     "name": "stderr",
     "output_type": "stream",
     "text": [
      "/Library/Frameworks/Python.framework/Versions/3.6/lib/python3.6/site-packages/sklearn/feature_selection/univariate_selection.py:299: RuntimeWarning: invalid value encountered in true_divide\n",
      "  corr /= X_norms\n",
      "/Library/Frameworks/Python.framework/Versions/3.6/lib/python3.6/site-packages/scipy/stats/_distn_infrastructure.py:877: RuntimeWarning: invalid value encountered in greater\n",
      "  return (self.a < x) & (x < self.b)\n",
      "/Library/Frameworks/Python.framework/Versions/3.6/lib/python3.6/site-packages/scipy/stats/_distn_infrastructure.py:877: RuntimeWarning: invalid value encountered in less\n",
      "  return (self.a < x) & (x < self.b)\n",
      "/Library/Frameworks/Python.framework/Versions/3.6/lib/python3.6/site-packages/scipy/stats/_distn_infrastructure.py:1831: RuntimeWarning: invalid value encountered in less_equal\n",
      "  cond2 = cond0 & (x <= self.a)\n"
     ]
    },
    {
     "name": "stdout",
     "output_type": "stream",
     "text": [
      "(329, 1) (329,) (329,) (329,)\n",
      "(5757, 329) (5757, 1) (2837, 329) (2837, 1)\n",
      "(5757, 1)\n",
      "(10,)\n"
     ]
    },
    {
     "name": "stderr",
     "output_type": "stream",
     "text": [
      "/Library/Frameworks/Python.framework/Versions/3.6/lib/python3.6/site-packages/sklearn/feature_selection/univariate_selection.py:299: RuntimeWarning: invalid value encountered in true_divide\n",
      "  corr /= X_norms\n",
      "/Library/Frameworks/Python.framework/Versions/3.6/lib/python3.6/site-packages/scipy/stats/_distn_infrastructure.py:877: RuntimeWarning: invalid value encountered in greater\n",
      "  return (self.a < x) & (x < self.b)\n",
      "/Library/Frameworks/Python.framework/Versions/3.6/lib/python3.6/site-packages/scipy/stats/_distn_infrastructure.py:877: RuntimeWarning: invalid value encountered in less\n",
      "  return (self.a < x) & (x < self.b)\n",
      "/Library/Frameworks/Python.framework/Versions/3.6/lib/python3.6/site-packages/scipy/stats/_distn_infrastructure.py:1831: RuntimeWarning: invalid value encountered in less_equal\n",
      "  cond2 = cond0 & (x <= self.a)\n"
     ]
    },
    {
     "name": "stdout",
     "output_type": "stream",
     "text": [
      "(329, 1) (329,) (329,) (329,)\n",
      "(5757, 329) (5757, 1) (2837, 329) (2837, 1)\n",
      "(5757, 1)\n",
      "(10,)\n"
     ]
    },
    {
     "name": "stderr",
     "output_type": "stream",
     "text": [
      "/Library/Frameworks/Python.framework/Versions/3.6/lib/python3.6/site-packages/sklearn/feature_selection/univariate_selection.py:299: RuntimeWarning: invalid value encountered in true_divide\n",
      "  corr /= X_norms\n",
      "/Library/Frameworks/Python.framework/Versions/3.6/lib/python3.6/site-packages/scipy/stats/_distn_infrastructure.py:877: RuntimeWarning: invalid value encountered in greater\n",
      "  return (self.a < x) & (x < self.b)\n",
      "/Library/Frameworks/Python.framework/Versions/3.6/lib/python3.6/site-packages/scipy/stats/_distn_infrastructure.py:877: RuntimeWarning: invalid value encountered in less\n",
      "  return (self.a < x) & (x < self.b)\n",
      "/Library/Frameworks/Python.framework/Versions/3.6/lib/python3.6/site-packages/scipy/stats/_distn_infrastructure.py:1831: RuntimeWarning: invalid value encountered in less_equal\n",
      "  cond2 = cond0 & (x <= self.a)\n"
     ]
    },
    {
     "name": "stdout",
     "output_type": "stream",
     "text": [
      "(329, 1) (329,) (329,) (329,)\n",
      "(5757, 329) (5757, 1) (2837, 329) (2837, 1)\n",
      "(5757, 1)\n",
      "(10,)\n"
     ]
    },
    {
     "name": "stderr",
     "output_type": "stream",
     "text": [
      "/Library/Frameworks/Python.framework/Versions/3.6/lib/python3.6/site-packages/sklearn/feature_selection/univariate_selection.py:299: RuntimeWarning: invalid value encountered in true_divide\n",
      "  corr /= X_norms\n",
      "/Library/Frameworks/Python.framework/Versions/3.6/lib/python3.6/site-packages/scipy/stats/_distn_infrastructure.py:877: RuntimeWarning: invalid value encountered in greater\n",
      "  return (self.a < x) & (x < self.b)\n",
      "/Library/Frameworks/Python.framework/Versions/3.6/lib/python3.6/site-packages/scipy/stats/_distn_infrastructure.py:877: RuntimeWarning: invalid value encountered in less\n",
      "  return (self.a < x) & (x < self.b)\n",
      "/Library/Frameworks/Python.framework/Versions/3.6/lib/python3.6/site-packages/scipy/stats/_distn_infrastructure.py:1831: RuntimeWarning: invalid value encountered in less_equal\n",
      "  cond2 = cond0 & (x <= self.a)\n"
     ]
    },
    {
     "name": "stdout",
     "output_type": "stream",
     "text": [
      "(329, 1) (329,) (329,) (329,)\n",
      "(5757, 329) (5757, 1) (2837, 329) (2837, 1)\n",
      "(5757, 1)\n",
      "(10,)\n"
     ]
    },
    {
     "name": "stderr",
     "output_type": "stream",
     "text": [
      "/Library/Frameworks/Python.framework/Versions/3.6/lib/python3.6/site-packages/sklearn/feature_selection/univariate_selection.py:299: RuntimeWarning: invalid value encountered in true_divide\n",
      "  corr /= X_norms\n",
      "/Library/Frameworks/Python.framework/Versions/3.6/lib/python3.6/site-packages/scipy/stats/_distn_infrastructure.py:877: RuntimeWarning: invalid value encountered in greater\n",
      "  return (self.a < x) & (x < self.b)\n",
      "/Library/Frameworks/Python.framework/Versions/3.6/lib/python3.6/site-packages/scipy/stats/_distn_infrastructure.py:877: RuntimeWarning: invalid value encountered in less\n",
      "  return (self.a < x) & (x < self.b)\n",
      "/Library/Frameworks/Python.framework/Versions/3.6/lib/python3.6/site-packages/scipy/stats/_distn_infrastructure.py:1831: RuntimeWarning: invalid value encountered in less_equal\n",
      "  cond2 = cond0 & (x <= self.a)\n"
     ]
    },
    {
     "name": "stdout",
     "output_type": "stream",
     "text": [
      "(329, 1) (329,) (329,) (329,)\n",
      "(5757, 329) (5757, 1) (2837, 329) (2837, 1)\n",
      "(5757, 1)\n",
      "(10,)\n"
     ]
    },
    {
     "name": "stderr",
     "output_type": "stream",
     "text": [
      "/Library/Frameworks/Python.framework/Versions/3.6/lib/python3.6/site-packages/sklearn/feature_selection/univariate_selection.py:299: RuntimeWarning: invalid value encountered in true_divide\n",
      "  corr /= X_norms\n",
      "/Library/Frameworks/Python.framework/Versions/3.6/lib/python3.6/site-packages/scipy/stats/_distn_infrastructure.py:877: RuntimeWarning: invalid value encountered in greater\n",
      "  return (self.a < x) & (x < self.b)\n",
      "/Library/Frameworks/Python.framework/Versions/3.6/lib/python3.6/site-packages/scipy/stats/_distn_infrastructure.py:877: RuntimeWarning: invalid value encountered in less\n",
      "  return (self.a < x) & (x < self.b)\n",
      "/Library/Frameworks/Python.framework/Versions/3.6/lib/python3.6/site-packages/scipy/stats/_distn_infrastructure.py:1831: RuntimeWarning: invalid value encountered in less_equal\n",
      "  cond2 = cond0 & (x <= self.a)\n"
     ]
    },
    {
     "name": "stdout",
     "output_type": "stream",
     "text": [
      "(329, 1) (329,) (329,) (329,)\n",
      "(5757, 329) (5757, 1) (2837, 329) (2837, 1)\n",
      "(5757, 1)\n",
      "(10,)\n"
     ]
    },
    {
     "name": "stderr",
     "output_type": "stream",
     "text": [
      "/Library/Frameworks/Python.framework/Versions/3.6/lib/python3.6/site-packages/sklearn/feature_selection/univariate_selection.py:299: RuntimeWarning: invalid value encountered in true_divide\n",
      "  corr /= X_norms\n",
      "/Library/Frameworks/Python.framework/Versions/3.6/lib/python3.6/site-packages/scipy/stats/_distn_infrastructure.py:877: RuntimeWarning: invalid value encountered in greater\n",
      "  return (self.a < x) & (x < self.b)\n",
      "/Library/Frameworks/Python.framework/Versions/3.6/lib/python3.6/site-packages/scipy/stats/_distn_infrastructure.py:877: RuntimeWarning: invalid value encountered in less\n",
      "  return (self.a < x) & (x < self.b)\n",
      "/Library/Frameworks/Python.framework/Versions/3.6/lib/python3.6/site-packages/scipy/stats/_distn_infrastructure.py:1831: RuntimeWarning: invalid value encountered in less_equal\n",
      "  cond2 = cond0 & (x <= self.a)\n"
     ]
    },
    {
     "name": "stdout",
     "output_type": "stream",
     "text": [
      "(329, 1) (329,) (329,) (329,)\n",
      "(5757, 329) (5757, 1) (2837, 329) (2837, 1)\n",
      "(5757, 1)\n",
      "(10,)\n"
     ]
    },
    {
     "name": "stderr",
     "output_type": "stream",
     "text": [
      "/Library/Frameworks/Python.framework/Versions/3.6/lib/python3.6/site-packages/sklearn/feature_selection/univariate_selection.py:299: RuntimeWarning: invalid value encountered in true_divide\n",
      "  corr /= X_norms\n",
      "/Library/Frameworks/Python.framework/Versions/3.6/lib/python3.6/site-packages/scipy/stats/_distn_infrastructure.py:877: RuntimeWarning: invalid value encountered in greater\n",
      "  return (self.a < x) & (x < self.b)\n",
      "/Library/Frameworks/Python.framework/Versions/3.6/lib/python3.6/site-packages/scipy/stats/_distn_infrastructure.py:877: RuntimeWarning: invalid value encountered in less\n",
      "  return (self.a < x) & (x < self.b)\n",
      "/Library/Frameworks/Python.framework/Versions/3.6/lib/python3.6/site-packages/scipy/stats/_distn_infrastructure.py:1831: RuntimeWarning: invalid value encountered in less_equal\n",
      "  cond2 = cond0 & (x <= self.a)\n"
     ]
    },
    {
     "name": "stdout",
     "output_type": "stream",
     "text": [
      "(329, 1) (329,) (329,) (329,)\n",
      "(5757, 329) (5757, 1) (2837, 329) (2837, 1)\n",
      "(5757, 1)\n",
      "(10,)\n"
     ]
    },
    {
     "name": "stderr",
     "output_type": "stream",
     "text": [
      "/Library/Frameworks/Python.framework/Versions/3.6/lib/python3.6/site-packages/sklearn/feature_selection/univariate_selection.py:299: RuntimeWarning: invalid value encountered in true_divide\n",
      "  corr /= X_norms\n",
      "/Library/Frameworks/Python.framework/Versions/3.6/lib/python3.6/site-packages/scipy/stats/_distn_infrastructure.py:877: RuntimeWarning: invalid value encountered in greater\n",
      "  return (self.a < x) & (x < self.b)\n",
      "/Library/Frameworks/Python.framework/Versions/3.6/lib/python3.6/site-packages/scipy/stats/_distn_infrastructure.py:877: RuntimeWarning: invalid value encountered in less\n",
      "  return (self.a < x) & (x < self.b)\n",
      "/Library/Frameworks/Python.framework/Versions/3.6/lib/python3.6/site-packages/scipy/stats/_distn_infrastructure.py:1831: RuntimeWarning: invalid value encountered in less_equal\n",
      "  cond2 = cond0 & (x <= self.a)\n"
     ]
    },
    {
     "name": "stdout",
     "output_type": "stream",
     "text": [
      "(329, 1) (329,) (329,) (329,)\n",
      "(5757, 329) (5757, 1) (2837, 329) (2837, 1)\n",
      "(5757, 1)\n",
      "(10,)\n"
     ]
    },
    {
     "name": "stderr",
     "output_type": "stream",
     "text": [
      "/Library/Frameworks/Python.framework/Versions/3.6/lib/python3.6/site-packages/sklearn/feature_selection/univariate_selection.py:299: RuntimeWarning: invalid value encountered in true_divide\n",
      "  corr /= X_norms\n",
      "/Library/Frameworks/Python.framework/Versions/3.6/lib/python3.6/site-packages/scipy/stats/_distn_infrastructure.py:877: RuntimeWarning: invalid value encountered in greater\n",
      "  return (self.a < x) & (x < self.b)\n",
      "/Library/Frameworks/Python.framework/Versions/3.6/lib/python3.6/site-packages/scipy/stats/_distn_infrastructure.py:877: RuntimeWarning: invalid value encountered in less\n",
      "  return (self.a < x) & (x < self.b)\n",
      "/Library/Frameworks/Python.framework/Versions/3.6/lib/python3.6/site-packages/scipy/stats/_distn_infrastructure.py:1831: RuntimeWarning: invalid value encountered in less_equal\n",
      "  cond2 = cond0 & (x <= self.a)\n"
     ]
    },
    {
     "name": "stdout",
     "output_type": "stream",
     "text": [
      "(329, 1) (329,) (329,) (329,)\n",
      "(5757, 329) (5757, 1) (2837, 329) (2837, 1)\n",
      "(5757, 1)\n",
      "(10,)\n"
     ]
    },
    {
     "name": "stderr",
     "output_type": "stream",
     "text": [
      "/Library/Frameworks/Python.framework/Versions/3.6/lib/python3.6/site-packages/sklearn/feature_selection/univariate_selection.py:299: RuntimeWarning: invalid value encountered in true_divide\n",
      "  corr /= X_norms\n",
      "/Library/Frameworks/Python.framework/Versions/3.6/lib/python3.6/site-packages/scipy/stats/_distn_infrastructure.py:877: RuntimeWarning: invalid value encountered in greater\n",
      "  return (self.a < x) & (x < self.b)\n",
      "/Library/Frameworks/Python.framework/Versions/3.6/lib/python3.6/site-packages/scipy/stats/_distn_infrastructure.py:877: RuntimeWarning: invalid value encountered in less\n",
      "  return (self.a < x) & (x < self.b)\n",
      "/Library/Frameworks/Python.framework/Versions/3.6/lib/python3.6/site-packages/scipy/stats/_distn_infrastructure.py:1831: RuntimeWarning: invalid value encountered in less_equal\n",
      "  cond2 = cond0 & (x <= self.a)\n"
     ]
    },
    {
     "name": "stdout",
     "output_type": "stream",
     "text": [
      "(329, 1) (329,) (329,) (329,)\n",
      "(5757, 329) (5757, 1) (2837, 329) (2837, 1)\n",
      "(5757, 1)\n",
      "(10,)\n"
     ]
    },
    {
     "name": "stderr",
     "output_type": "stream",
     "text": [
      "/Library/Frameworks/Python.framework/Versions/3.6/lib/python3.6/site-packages/sklearn/feature_selection/univariate_selection.py:299: RuntimeWarning: invalid value encountered in true_divide\n",
      "  corr /= X_norms\n",
      "/Library/Frameworks/Python.framework/Versions/3.6/lib/python3.6/site-packages/scipy/stats/_distn_infrastructure.py:877: RuntimeWarning: invalid value encountered in greater\n",
      "  return (self.a < x) & (x < self.b)\n",
      "/Library/Frameworks/Python.framework/Versions/3.6/lib/python3.6/site-packages/scipy/stats/_distn_infrastructure.py:877: RuntimeWarning: invalid value encountered in less\n",
      "  return (self.a < x) & (x < self.b)\n",
      "/Library/Frameworks/Python.framework/Versions/3.6/lib/python3.6/site-packages/scipy/stats/_distn_infrastructure.py:1831: RuntimeWarning: invalid value encountered in less_equal\n",
      "  cond2 = cond0 & (x <= self.a)\n"
     ]
    },
    {
     "name": "stdout",
     "output_type": "stream",
     "text": [
      "(329, 1) (329,) (329,) (329,)\n",
      "(5757, 329) (5757, 1) (2837, 329) (2837, 1)\n",
      "(5757, 1)\n",
      "(10,)\n"
     ]
    },
    {
     "name": "stderr",
     "output_type": "stream",
     "text": [
      "/Library/Frameworks/Python.framework/Versions/3.6/lib/python3.6/site-packages/sklearn/feature_selection/univariate_selection.py:299: RuntimeWarning: invalid value encountered in true_divide\n",
      "  corr /= X_norms\n",
      "/Library/Frameworks/Python.framework/Versions/3.6/lib/python3.6/site-packages/scipy/stats/_distn_infrastructure.py:877: RuntimeWarning: invalid value encountered in greater\n",
      "  return (self.a < x) & (x < self.b)\n",
      "/Library/Frameworks/Python.framework/Versions/3.6/lib/python3.6/site-packages/scipy/stats/_distn_infrastructure.py:877: RuntimeWarning: invalid value encountered in less\n",
      "  return (self.a < x) & (x < self.b)\n",
      "/Library/Frameworks/Python.framework/Versions/3.6/lib/python3.6/site-packages/scipy/stats/_distn_infrastructure.py:1831: RuntimeWarning: invalid value encountered in less_equal\n",
      "  cond2 = cond0 & (x <= self.a)\n"
     ]
    },
    {
     "name": "stdout",
     "output_type": "stream",
     "text": [
      "(329, 1) (329,) (329,) (329,)\n",
      "(5757, 329) (5757, 1) (2837, 329) (2837, 1)\n",
      "(5757, 1)\n",
      "(10,)\n"
     ]
    },
    {
     "name": "stderr",
     "output_type": "stream",
     "text": [
      "/Library/Frameworks/Python.framework/Versions/3.6/lib/python3.6/site-packages/sklearn/feature_selection/univariate_selection.py:299: RuntimeWarning: invalid value encountered in true_divide\n",
      "  corr /= X_norms\n",
      "/Library/Frameworks/Python.framework/Versions/3.6/lib/python3.6/site-packages/scipy/stats/_distn_infrastructure.py:877: RuntimeWarning: invalid value encountered in greater\n",
      "  return (self.a < x) & (x < self.b)\n",
      "/Library/Frameworks/Python.framework/Versions/3.6/lib/python3.6/site-packages/scipy/stats/_distn_infrastructure.py:877: RuntimeWarning: invalid value encountered in less\n",
      "  return (self.a < x) & (x < self.b)\n",
      "/Library/Frameworks/Python.framework/Versions/3.6/lib/python3.6/site-packages/scipy/stats/_distn_infrastructure.py:1831: RuntimeWarning: invalid value encountered in less_equal\n",
      "  cond2 = cond0 & (x <= self.a)\n"
     ]
    },
    {
     "name": "stdout",
     "output_type": "stream",
     "text": [
      "(329, 1) (329,) (329,) (329,)\n",
      "(5757, 329) (5757, 1) (2837, 329) (2837, 1)\n",
      "(5757, 1)\n",
      "(10,)\n"
     ]
    },
    {
     "name": "stderr",
     "output_type": "stream",
     "text": [
      "/Library/Frameworks/Python.framework/Versions/3.6/lib/python3.6/site-packages/sklearn/feature_selection/univariate_selection.py:299: RuntimeWarning: invalid value encountered in true_divide\n",
      "  corr /= X_norms\n",
      "/Library/Frameworks/Python.framework/Versions/3.6/lib/python3.6/site-packages/scipy/stats/_distn_infrastructure.py:877: RuntimeWarning: invalid value encountered in greater\n",
      "  return (self.a < x) & (x < self.b)\n",
      "/Library/Frameworks/Python.framework/Versions/3.6/lib/python3.6/site-packages/scipy/stats/_distn_infrastructure.py:877: RuntimeWarning: invalid value encountered in less\n",
      "  return (self.a < x) & (x < self.b)\n",
      "/Library/Frameworks/Python.framework/Versions/3.6/lib/python3.6/site-packages/scipy/stats/_distn_infrastructure.py:1831: RuntimeWarning: invalid value encountered in less_equal\n",
      "  cond2 = cond0 & (x <= self.a)\n"
     ]
    },
    {
     "name": "stdout",
     "output_type": "stream",
     "text": [
      "(329, 1) (329,) (329,) (329,)\n",
      "(5757, 329) (5757, 1) (2837, 329) (2837, 1)\n",
      "(5757, 1)\n",
      "(10,)\n"
     ]
    },
    {
     "name": "stderr",
     "output_type": "stream",
     "text": [
      "/Library/Frameworks/Python.framework/Versions/3.6/lib/python3.6/site-packages/sklearn/feature_selection/univariate_selection.py:299: RuntimeWarning: invalid value encountered in true_divide\n",
      "  corr /= X_norms\n",
      "/Library/Frameworks/Python.framework/Versions/3.6/lib/python3.6/site-packages/scipy/stats/_distn_infrastructure.py:877: RuntimeWarning: invalid value encountered in greater\n",
      "  return (self.a < x) & (x < self.b)\n",
      "/Library/Frameworks/Python.framework/Versions/3.6/lib/python3.6/site-packages/scipy/stats/_distn_infrastructure.py:877: RuntimeWarning: invalid value encountered in less\n",
      "  return (self.a < x) & (x < self.b)\n",
      "/Library/Frameworks/Python.framework/Versions/3.6/lib/python3.6/site-packages/scipy/stats/_distn_infrastructure.py:1831: RuntimeWarning: invalid value encountered in less_equal\n",
      "  cond2 = cond0 & (x <= self.a)\n"
     ]
    },
    {
     "name": "stdout",
     "output_type": "stream",
     "text": [
      "(329, 1) (329,) (329,) (329,)\n",
      "(5757, 329) (5757, 1) (2837, 329) (2837, 1)\n",
      "(5757, 1)\n",
      "(10,)\n"
     ]
    },
    {
     "name": "stderr",
     "output_type": "stream",
     "text": [
      "/Library/Frameworks/Python.framework/Versions/3.6/lib/python3.6/site-packages/sklearn/feature_selection/univariate_selection.py:299: RuntimeWarning: invalid value encountered in true_divide\n",
      "  corr /= X_norms\n",
      "/Library/Frameworks/Python.framework/Versions/3.6/lib/python3.6/site-packages/scipy/stats/_distn_infrastructure.py:877: RuntimeWarning: invalid value encountered in greater\n",
      "  return (self.a < x) & (x < self.b)\n",
      "/Library/Frameworks/Python.framework/Versions/3.6/lib/python3.6/site-packages/scipy/stats/_distn_infrastructure.py:877: RuntimeWarning: invalid value encountered in less\n",
      "  return (self.a < x) & (x < self.b)\n",
      "/Library/Frameworks/Python.framework/Versions/3.6/lib/python3.6/site-packages/scipy/stats/_distn_infrastructure.py:1831: RuntimeWarning: invalid value encountered in less_equal\n",
      "  cond2 = cond0 & (x <= self.a)\n"
     ]
    },
    {
     "name": "stdout",
     "output_type": "stream",
     "text": [
      "(329, 1) (329,) (329,) (329,)\n",
      "(5757, 329) (5757, 1) (2837, 329) (2837, 1)\n",
      "(5757, 1)\n",
      "(10,)\n"
     ]
    },
    {
     "name": "stderr",
     "output_type": "stream",
     "text": [
      "/Library/Frameworks/Python.framework/Versions/3.6/lib/python3.6/site-packages/sklearn/feature_selection/univariate_selection.py:299: RuntimeWarning: invalid value encountered in true_divide\n",
      "  corr /= X_norms\n",
      "/Library/Frameworks/Python.framework/Versions/3.6/lib/python3.6/site-packages/scipy/stats/_distn_infrastructure.py:877: RuntimeWarning: invalid value encountered in greater\n",
      "  return (self.a < x) & (x < self.b)\n",
      "/Library/Frameworks/Python.framework/Versions/3.6/lib/python3.6/site-packages/scipy/stats/_distn_infrastructure.py:877: RuntimeWarning: invalid value encountered in less\n",
      "  return (self.a < x) & (x < self.b)\n",
      "/Library/Frameworks/Python.framework/Versions/3.6/lib/python3.6/site-packages/scipy/stats/_distn_infrastructure.py:1831: RuntimeWarning: invalid value encountered in less_equal\n",
      "  cond2 = cond0 & (x <= self.a)\n"
     ]
    },
    {
     "name": "stdout",
     "output_type": "stream",
     "text": [
      "(329, 1) (329,) (329,) (329,)\n",
      "(5757, 329) (5757, 1) (2837, 329) (2837, 1)\n",
      "(5757, 1)\n",
      "(10,)\n"
     ]
    },
    {
     "name": "stderr",
     "output_type": "stream",
     "text": [
      "/Library/Frameworks/Python.framework/Versions/3.6/lib/python3.6/site-packages/sklearn/feature_selection/univariate_selection.py:299: RuntimeWarning: invalid value encountered in true_divide\n",
      "  corr /= X_norms\n",
      "/Library/Frameworks/Python.framework/Versions/3.6/lib/python3.6/site-packages/scipy/stats/_distn_infrastructure.py:877: RuntimeWarning: invalid value encountered in greater\n",
      "  return (self.a < x) & (x < self.b)\n",
      "/Library/Frameworks/Python.framework/Versions/3.6/lib/python3.6/site-packages/scipy/stats/_distn_infrastructure.py:877: RuntimeWarning: invalid value encountered in less\n",
      "  return (self.a < x) & (x < self.b)\n",
      "/Library/Frameworks/Python.framework/Versions/3.6/lib/python3.6/site-packages/scipy/stats/_distn_infrastructure.py:1831: RuntimeWarning: invalid value encountered in less_equal\n",
      "  cond2 = cond0 & (x <= self.a)\n"
     ]
    },
    {
     "name": "stdout",
     "output_type": "stream",
     "text": [
      "(329, 1) (329,) (329,) (329,)\n",
      "(5757, 329) (5757, 1) (2837, 329) (2837, 1)\n",
      "(5757, 1)\n",
      "(10,)\n"
     ]
    },
    {
     "name": "stderr",
     "output_type": "stream",
     "text": [
      "/Library/Frameworks/Python.framework/Versions/3.6/lib/python3.6/site-packages/sklearn/feature_selection/univariate_selection.py:299: RuntimeWarning: invalid value encountered in true_divide\n",
      "  corr /= X_norms\n",
      "/Library/Frameworks/Python.framework/Versions/3.6/lib/python3.6/site-packages/scipy/stats/_distn_infrastructure.py:877: RuntimeWarning: invalid value encountered in greater\n",
      "  return (self.a < x) & (x < self.b)\n",
      "/Library/Frameworks/Python.framework/Versions/3.6/lib/python3.6/site-packages/scipy/stats/_distn_infrastructure.py:877: RuntimeWarning: invalid value encountered in less\n",
      "  return (self.a < x) & (x < self.b)\n",
      "/Library/Frameworks/Python.framework/Versions/3.6/lib/python3.6/site-packages/scipy/stats/_distn_infrastructure.py:1831: RuntimeWarning: invalid value encountered in less_equal\n",
      "  cond2 = cond0 & (x <= self.a)\n"
     ]
    },
    {
     "name": "stdout",
     "output_type": "stream",
     "text": [
      "(329, 1) (329,) (329,) (329,)\n",
      "(5757, 329) (5757, 1) (2837, 329) (2837, 1)\n",
      "(5757, 1)\n",
      "(10,)\n"
     ]
    },
    {
     "name": "stderr",
     "output_type": "stream",
     "text": [
      "/Library/Frameworks/Python.framework/Versions/3.6/lib/python3.6/site-packages/sklearn/feature_selection/univariate_selection.py:299: RuntimeWarning: invalid value encountered in true_divide\n",
      "  corr /= X_norms\n",
      "/Library/Frameworks/Python.framework/Versions/3.6/lib/python3.6/site-packages/scipy/stats/_distn_infrastructure.py:877: RuntimeWarning: invalid value encountered in greater\n",
      "  return (self.a < x) & (x < self.b)\n",
      "/Library/Frameworks/Python.framework/Versions/3.6/lib/python3.6/site-packages/scipy/stats/_distn_infrastructure.py:877: RuntimeWarning: invalid value encountered in less\n",
      "  return (self.a < x) & (x < self.b)\n",
      "/Library/Frameworks/Python.framework/Versions/3.6/lib/python3.6/site-packages/scipy/stats/_distn_infrastructure.py:1831: RuntimeWarning: invalid value encountered in less_equal\n",
      "  cond2 = cond0 & (x <= self.a)\n"
     ]
    },
    {
     "name": "stdout",
     "output_type": "stream",
     "text": [
      "(329, 1) (329,) (329,) (329,)\n",
      "(5757, 329) (5757, 1) (2837, 329) (2837, 1)\n",
      "(5757, 1)\n",
      "(10,)\n"
     ]
    },
    {
     "name": "stderr",
     "output_type": "stream",
     "text": [
      "/Library/Frameworks/Python.framework/Versions/3.6/lib/python3.6/site-packages/sklearn/feature_selection/univariate_selection.py:299: RuntimeWarning: invalid value encountered in true_divide\n",
      "  corr /= X_norms\n",
      "/Library/Frameworks/Python.framework/Versions/3.6/lib/python3.6/site-packages/scipy/stats/_distn_infrastructure.py:877: RuntimeWarning: invalid value encountered in greater\n",
      "  return (self.a < x) & (x < self.b)\n",
      "/Library/Frameworks/Python.framework/Versions/3.6/lib/python3.6/site-packages/scipy/stats/_distn_infrastructure.py:877: RuntimeWarning: invalid value encountered in less\n",
      "  return (self.a < x) & (x < self.b)\n",
      "/Library/Frameworks/Python.framework/Versions/3.6/lib/python3.6/site-packages/scipy/stats/_distn_infrastructure.py:1831: RuntimeWarning: invalid value encountered in less_equal\n",
      "  cond2 = cond0 & (x <= self.a)\n"
     ]
    },
    {
     "name": "stdout",
     "output_type": "stream",
     "text": [
      "(329, 1) (329,) (329,) (329,)\n",
      "(5757, 329) (5757, 1) (2837, 329) (2837, 1)\n",
      "(5757, 1)\n",
      "(10,)\n"
     ]
    },
    {
     "name": "stderr",
     "output_type": "stream",
     "text": [
      "/Library/Frameworks/Python.framework/Versions/3.6/lib/python3.6/site-packages/sklearn/feature_selection/univariate_selection.py:299: RuntimeWarning: invalid value encountered in true_divide\n",
      "  corr /= X_norms\n",
      "/Library/Frameworks/Python.framework/Versions/3.6/lib/python3.6/site-packages/scipy/stats/_distn_infrastructure.py:877: RuntimeWarning: invalid value encountered in greater\n",
      "  return (self.a < x) & (x < self.b)\n",
      "/Library/Frameworks/Python.framework/Versions/3.6/lib/python3.6/site-packages/scipy/stats/_distn_infrastructure.py:877: RuntimeWarning: invalid value encountered in less\n",
      "  return (self.a < x) & (x < self.b)\n",
      "/Library/Frameworks/Python.framework/Versions/3.6/lib/python3.6/site-packages/scipy/stats/_distn_infrastructure.py:1831: RuntimeWarning: invalid value encountered in less_equal\n",
      "  cond2 = cond0 & (x <= self.a)\n"
     ]
    },
    {
     "name": "stdout",
     "output_type": "stream",
     "text": [
      "(329, 1) (329,) (329,) (329,)\n",
      "(5757, 329) (5757, 1) (2837, 329) (2837, 1)\n",
      "(5757, 1)\n",
      "(10,)\n"
     ]
    },
    {
     "name": "stderr",
     "output_type": "stream",
     "text": [
      "/Library/Frameworks/Python.framework/Versions/3.6/lib/python3.6/site-packages/sklearn/feature_selection/univariate_selection.py:299: RuntimeWarning: invalid value encountered in true_divide\n",
      "  corr /= X_norms\n",
      "/Library/Frameworks/Python.framework/Versions/3.6/lib/python3.6/site-packages/scipy/stats/_distn_infrastructure.py:877: RuntimeWarning: invalid value encountered in greater\n",
      "  return (self.a < x) & (x < self.b)\n",
      "/Library/Frameworks/Python.framework/Versions/3.6/lib/python3.6/site-packages/scipy/stats/_distn_infrastructure.py:877: RuntimeWarning: invalid value encountered in less\n",
      "  return (self.a < x) & (x < self.b)\n",
      "/Library/Frameworks/Python.framework/Versions/3.6/lib/python3.6/site-packages/scipy/stats/_distn_infrastructure.py:1831: RuntimeWarning: invalid value encountered in less_equal\n",
      "  cond2 = cond0 & (x <= self.a)\n"
     ]
    },
    {
     "name": "stdout",
     "output_type": "stream",
     "text": [
      "(329, 1) (329,) (329,) (329,)\n",
      "(5757, 329) (5757, 1) (2837, 329) (2837, 1)\n",
      "(5757, 1)\n",
      "(10,)\n"
     ]
    },
    {
     "name": "stderr",
     "output_type": "stream",
     "text": [
      "/Library/Frameworks/Python.framework/Versions/3.6/lib/python3.6/site-packages/sklearn/feature_selection/univariate_selection.py:299: RuntimeWarning: invalid value encountered in true_divide\n",
      "  corr /= X_norms\n",
      "/Library/Frameworks/Python.framework/Versions/3.6/lib/python3.6/site-packages/scipy/stats/_distn_infrastructure.py:877: RuntimeWarning: invalid value encountered in greater\n",
      "  return (self.a < x) & (x < self.b)\n",
      "/Library/Frameworks/Python.framework/Versions/3.6/lib/python3.6/site-packages/scipy/stats/_distn_infrastructure.py:877: RuntimeWarning: invalid value encountered in less\n",
      "  return (self.a < x) & (x < self.b)\n",
      "/Library/Frameworks/Python.framework/Versions/3.6/lib/python3.6/site-packages/scipy/stats/_distn_infrastructure.py:1831: RuntimeWarning: invalid value encountered in less_equal\n",
      "  cond2 = cond0 & (x <= self.a)\n"
     ]
    },
    {
     "name": "stdout",
     "output_type": "stream",
     "text": [
      "(329, 1) (329,) (329,) (329,)\n",
      "(5757, 329) (5757, 1) (2837, 329) (2837, 1)\n",
      "(5757, 1)\n",
      "(10,)\n"
     ]
    },
    {
     "name": "stderr",
     "output_type": "stream",
     "text": [
      "/Library/Frameworks/Python.framework/Versions/3.6/lib/python3.6/site-packages/sklearn/feature_selection/univariate_selection.py:299: RuntimeWarning: invalid value encountered in true_divide\n",
      "  corr /= X_norms\n",
      "/Library/Frameworks/Python.framework/Versions/3.6/lib/python3.6/site-packages/scipy/stats/_distn_infrastructure.py:877: RuntimeWarning: invalid value encountered in greater\n",
      "  return (self.a < x) & (x < self.b)\n",
      "/Library/Frameworks/Python.framework/Versions/3.6/lib/python3.6/site-packages/scipy/stats/_distn_infrastructure.py:877: RuntimeWarning: invalid value encountered in less\n",
      "  return (self.a < x) & (x < self.b)\n",
      "/Library/Frameworks/Python.framework/Versions/3.6/lib/python3.6/site-packages/scipy/stats/_distn_infrastructure.py:1831: RuntimeWarning: invalid value encountered in less_equal\n",
      "  cond2 = cond0 & (x <= self.a)\n"
     ]
    },
    {
     "name": "stdout",
     "output_type": "stream",
     "text": [
      "(329, 1) (329,) (329,) (329,)\n",
      "(5757, 329) (5757, 1) (2837, 329) (2837, 1)\n",
      "(5757, 1)\n",
      "(10,)\n"
     ]
    },
    {
     "name": "stderr",
     "output_type": "stream",
     "text": [
      "/Library/Frameworks/Python.framework/Versions/3.6/lib/python3.6/site-packages/sklearn/feature_selection/univariate_selection.py:299: RuntimeWarning: invalid value encountered in true_divide\n",
      "  corr /= X_norms\n",
      "/Library/Frameworks/Python.framework/Versions/3.6/lib/python3.6/site-packages/scipy/stats/_distn_infrastructure.py:877: RuntimeWarning: invalid value encountered in greater\n",
      "  return (self.a < x) & (x < self.b)\n",
      "/Library/Frameworks/Python.framework/Versions/3.6/lib/python3.6/site-packages/scipy/stats/_distn_infrastructure.py:877: RuntimeWarning: invalid value encountered in less\n",
      "  return (self.a < x) & (x < self.b)\n",
      "/Library/Frameworks/Python.framework/Versions/3.6/lib/python3.6/site-packages/scipy/stats/_distn_infrastructure.py:1831: RuntimeWarning: invalid value encountered in less_equal\n",
      "  cond2 = cond0 & (x <= self.a)\n"
     ]
    },
    {
     "name": "stdout",
     "output_type": "stream",
     "text": [
      "(329, 1) (329,) (329,) (329,)\n"
     ]
    }
   ],
   "source": [
    "for i in range(0, n_iter):\n",
    "      x_train, x_test, y_train, y_test = train_test_split(fea_x, y, test_size=0.33)\n",
    "      print(x_train.shape, y_train.shape, x_test.shape, y_test.shape)\n",
    "      \n",
    "      # feature selection - Variance Threshold\n",
    "      fs_vt = VarianceThreshold(threshold=(.8 * (1 - .8)))\n",
    "      data_vt = fs_vt.fit_transform(x_train, y_train.ravel())\n",
    "      print(data_vt.shape)\n",
    "      vt_ind = fs_vt.get_support(indices = True)\n",
    "      \n",
    "      # feature selection - f_regression\n",
    "      fs_freg = SelectKBest(score_func = f_regression, k = 10)\n",
    "      fs_freg.fit_transform(x_train[:, 0:297], y_train.ravel())\n",
    "      freg_ind = fs_freg.get_support(indices = True)\n",
    "      '''\n",
    "      # feature selection - mutual information\n",
    "      fs_mi = selectKBest(score_func = mutual_info_regression, k = 50)\n",
    "      fs_mi.fit_transform(x_train, y_train)\n",
    "      mi_ind = fs_mi.get_support(indices = True)\n",
    "      '''\n",
    "      print(freg_ind.shape)\n",
    "      fgind[:,i] = freg_ind\n",
    "      vgind[:,i] = vt_ind \n",
    "      \n",
    "      \n",
    "      # Regression Model\n",
    "      # Ridge\n",
    "      ridge_regr = linear_model.Ridge(alpha=.05)\n",
    "      ridge_regr.fit(x_train, y_train)\n",
    "      ridge_y_pred = ridge_regr.predict(x_test)\n",
    "      \n",
    "      mean_r2[0, 0] = mean_r2[0, 0] + mean_squared_error(y_test, ridge_y_pred);\n",
    "      mean_r2[0, 1] = mean_r2[0, 1] + r2_score(y_test, ridge_y_pred)\n",
    "      \n",
    "      # Lasso\n",
    "      lasso_regr = linear_model.Lasso(alpha = .005)\n",
    "      lasso_regr.fit(x_train, y_train) #0:297\n",
    "      lasso_y_pred = lasso_regr.predict(x_test)\n",
    "      \n",
    "      mean_r2[1, 0] = mean_r2[1, 0] + mean_squared_error(y_test, lasso_y_pred);\n",
    "      mean_r2[1, 1] = mean_r2[1, 1] + r2_score(y_test, lasso_y_pred)\n",
    "      \n",
    "      # baysian\n",
    "      bay_regr = BayesianRidge(compute_score=True)\n",
    "      bay_regr.fit(x_train, y_train.ravel())\n",
    "      bay_y_pred = bay_regr.predict(x_test)\n",
    "      \n",
    "      mean_r2[2, 0] = mean_r2[2, 0] + mean_squared_error(y_test, bay_y_pred);\n",
    "      mean_r2[2, 1] = mean_r2[2, 1] + r2_score(y_test, bay_y_pred)\n",
    "      \n",
    "      # elastic net\n",
    "      enet = ElasticNet(alpha = 0.05, l1_ratio = 0.01)\n",
    "      enet.fit(x_train, y_train.ravel())\n",
    "      enet_y_pred = enet.predict(x_test)\n",
    "      \n",
    "      mean_r2[3, 0] = mean_r2[3, 0] + mean_squared_error(y_test, enet_y_pred);\n",
    "      mean_r2[3, 1] = mean_r2[3, 1] + r2_score(y_test, enet_y_pred);\n",
    "      \n",
    "      ridge_regr.coef_ = np.transpose(ridge_regr.coef_)\n",
    "      print(ridge_regr.coef_.shape, lasso_regr.coef_.shape, bay_regr.coef_.shape, enet.coef_.shape)\n",
    "      coef[:, 0]= np.add(coef[:, 0],ridge_regr.coef_.flatten())\n",
    "      \n",
    "      coef[:, 1] = np.add(coef[:, 1], lasso_regr.coef_)\n",
    "      coef[:, 2] = np.add(coef[:, 2], bay_regr.coef_)\n",
    "      coef[:, 3] = np.add(coef[:, 3], enet.coef_)\n"
   ]
  },
  {
   "cell_type": "code",
   "execution_count": 511,
   "metadata": {},
   "outputs": [
    {
     "name": "stdout",
     "output_type": "stream",
     "text": [
      "[[0.01797761 0.16819606]\n",
      " [0.02138657 0.01055352]\n",
      " [0.01739768 0.19511419]\n",
      " [0.01881962 0.12935058]]\n",
      "0\n"
     ]
    }
   ],
   "source": [
    "print(mean_r2/n_iter)\n",
    "print(x_train[0,298])"
   ]
  },
  {
   "cell_type": "code",
   "execution_count": 470,
   "metadata": {},
   "outputs": [
    {
     "name": "stdout",
     "output_type": "stream",
     "text": [
      "[[276 276 276 276 276 276 276 276 276 276 276 276 276 276 276 276 276 276\n",
      "  276 276 276 276 276 276 276 276 276 276 276 276 276 276 276 276 276 276\n",
      "  276 276 276 276 276 276 276 276 276 276 276 276 276 276]]\n",
      "(10, 50)\n",
      "[[ 22  22  22  22  22  22  22  22  22  22  22  22  22  15  22  15  22  22\n",
      "   22  22  22  22  22  22  22  22  22  22  15  22  22  22  22  22  22  22\n",
      "   15  22  22  22  22  22  22  22  22  22  22  22  22  22]\n",
      " [ 38  38  38  38  38  38  38  38  38  38  38  38  38  22  38  22  38  38\n",
      "   38  38  38  38  38  38  38  38  38  38  22  38  38  38  38  38  38  38\n",
      "   22  38  38  38  38  38  38  38  38  38  38  38  38  38]\n",
      " [ 49  49  49  49  49  49  49  49  49  49  49  46  49  38  49  38  49  49\n",
      "   49  49  49  49  49  46  49  49  49  49  38  49  49  49  49  49  49  49\n",
      "   38  49  49  49  49  49  49  49  49  49  49  49  49  49]\n",
      " [ 56  56  56  56  56  56  56  56  56  56  56  49  56  49  56  49  56  56\n",
      "   56  56  56  56  56  49  56  63  56  56  49  56  56  56  56  63  63  56\n",
      "   46  56  56  56  56  56  56  56  56  56  56  56  56  56]\n",
      " [ 63  94  94  63  63  94  63  94  63  63  63  56  63  56  63  56  63  63\n",
      "   94  63  63  63  63  56  63  94  63  63  56  63  63  63  63  69  94  63\n",
      "   49  63  63  63  63  63  63  63  63  63  63  94  94  63]\n",
      " [ 94 107 109  94  94 109  94 119  94  94  94  63  89  63  94  63  94  94\n",
      "  109  94  94  94  94  94  94 107  94  94  63  94  94  94  94  94 109  94\n",
      "   56  69  69  94  94  69  94  94  65  94  94 109 109  69]\n",
      " [109 109 123 107 109 119 123 120 107 109 109  94  94  94 123  94 109 109\n",
      "  123 109 109 109 123 109 109 109 123 123  94 107 109 109 109 109 123 109\n",
      "   63  94  94 123 109  94 109 123  94 109 109 123 123  94]\n",
      " [120 123 195 123 123 123 124 123 123 123 123 109 109 109 176 109 123 123\n",
      "  262 123 123 123 173 123 123 123 219 258 123 123 123 123 123 123 173 123\n",
      "   94 109 109 173 123 109 123 257 109 123 123 218 258 109]\n",
      " [123 258 270 258 219 152 199 257 258 270 270 123 123 123 195 123 175 148\n",
      "  270 270 270 258 270 173 258 257 270 270 270 173 270 270 258 258 258 262\n",
      "  123 123 123 258 195 123 152 262 123 219 258 270 270 123]\n",
      " [270 276 276 270 270 258 219 276 262 276 276 276 276 270 270 276 262 258\n",
      "  276 276 276 270 276 258 270 270 276 276 276 270 276 276 276 276 270 270\n",
      "  173 258 276 276 258 270 276 276 175 276 270 276 276 276]]\n"
     ]
    }
   ],
   "source": [
    "#print(fgind)\n",
    "np.savetxt('f_regression.txt', fgind)\n",
    "np.savetxt('variance_regression.txt', vgind)\n",
    "\n",
    "print(vgind)\n",
    "print(fgind.shape)\n",
    "#coef = coef/n_iter;\n",
    "print(fgind)"
   ]
  },
  {
   "cell_type": "code",
   "execution_count": 500,
   "metadata": {},
   "outputs": [
    {
     "data": {
      "image/png": "[encoded data removed]",
      "text/plain": [
       "<Figure size 432x288 with 1 Axes>"
      ]
     },
     "metadata": {},
     "output_type": "display_data"
    },
    {
     "ename": "FileNotFoundError",
     "evalue": "[Errno 2] No such file or directory: './fig/RidgeRegression_weight.png'",
     "output_type": "error",
     "traceback": [
      "\u001b[0;31m---------------------------------------------------------------------------\u001b[0m",
      "\u001b[0;31mFileNotFoundError\u001b[0m                         Traceback (most recent call last)",
      "\u001b[0;32m<ipython-input-500-e44fc18f40e6>\u001b[0m in \u001b[0;36m<module>\u001b[0;34m()\u001b[0m\n\u001b[1;32m     13\u001b[0m       fig.savefig(\"./fig/\"+histfile[j] + \"_weight.png\",bbox_inches='tight', \n\u001b[1;32m     14\u001b[0m                \u001b[0mtransparent\u001b[0m\u001b[0;34m=\u001b[0m\u001b[0;32mFalse\u001b[0m\u001b[0;34m,\u001b[0m\u001b[0;34m\u001b[0m\u001b[0m\n\u001b[0;32m---> 15\u001b[0;31m                pad_inches=0.1)\n\u001b[0m",
      "\u001b[0;32m/Library/Frameworks/Python.framework/Versions/3.6/lib/python3.6/site-packages/matplotlib/figure.py\u001b[0m in \u001b[0;36msavefig\u001b[0;34m(self, fname, frameon, transparent, **kwargs)\u001b[0m\n\u001b[1;32m   2092\u001b[0m             \u001b[0mself\u001b[0m\u001b[0;34m.\u001b[0m\u001b[0mset_frameon\u001b[0m\u001b[0;34m(\u001b[0m\u001b[0mframeon\u001b[0m\u001b[0;34m)\u001b[0m\u001b[0;34m\u001b[0m\u001b[0m\n\u001b[1;32m   2093\u001b[0m \u001b[0;34m\u001b[0m\u001b[0m\n\u001b[0;32m-> 2094\u001b[0;31m         \u001b[0mself\u001b[0m\u001b[0;34m.\u001b[0m\u001b[0mcanvas\u001b[0m\u001b[0;34m.\u001b[0m\u001b[0mprint_figure\u001b[0m\u001b[0;34m(\u001b[0m\u001b[0mfname\u001b[0m\u001b[0;34m,\u001b[0m \u001b[0;34m**\u001b[0m\u001b[0mkwargs\u001b[0m\u001b[0;34m)\u001b[0m\u001b[0;34m\u001b[0m\u001b[0m\n\u001b[0m\u001b[1;32m   2095\u001b[0m \u001b[0;34m\u001b[0m\u001b[0m\n\u001b[1;32m   2096\u001b[0m         \u001b[0;32mif\u001b[0m \u001b[0mframeon\u001b[0m\u001b[0;34m:\u001b[0m\u001b[0;34m\u001b[0m\u001b[0m\n",
      "\u001b[0;32m/Library/Frameworks/Python.framework/Versions/3.6/lib/python3.6/site-packages/matplotlib/backend_bases.py\u001b[0m in \u001b[0;36mprint_figure\u001b[0;34m(self, filename, dpi, facecolor, edgecolor, orientation, format, bbox_inches, **kwargs)\u001b[0m\n\u001b[1;32m   2073\u001b[0m                     \u001b[0morientation\u001b[0m\u001b[0;34m=\u001b[0m\u001b[0morientation\u001b[0m\u001b[0;34m,\u001b[0m\u001b[0;34m\u001b[0m\u001b[0m\n\u001b[1;32m   2074\u001b[0m                     \u001b[0mbbox_inches_restore\u001b[0m\u001b[0;34m=\u001b[0m\u001b[0m_bbox_inches_restore\u001b[0m\u001b[0;34m,\u001b[0m\u001b[0;34m\u001b[0m\u001b[0m\n\u001b[0;32m-> 2075\u001b[0;31m                     **kwargs)\n\u001b[0m\u001b[1;32m   2076\u001b[0m             \u001b[0;32mfinally\u001b[0m\u001b[0;34m:\u001b[0m\u001b[0;34m\u001b[0m\u001b[0m\n\u001b[1;32m   2077\u001b[0m                 \u001b[0;32mif\u001b[0m \u001b[0mbbox_inches\u001b[0m \u001b[0;32mand\u001b[0m \u001b[0mrestore_bbox\u001b[0m\u001b[0;34m:\u001b[0m\u001b[0;34m\u001b[0m\u001b[0m\n",
      "\u001b[0;32m/Library/Frameworks/Python.framework/Versions/3.6/lib/python3.6/site-packages/matplotlib/backends/backend_agg.py\u001b[0m in \u001b[0;36mprint_png\u001b[0;34m(self, filename_or_obj, *args, **kwargs)\u001b[0m\n\u001b[1;32m    519\u001b[0m \u001b[0;34m\u001b[0m\u001b[0m\n\u001b[1;32m    520\u001b[0m         \u001b[0;32mwith\u001b[0m \u001b[0mcbook\u001b[0m\u001b[0;34m.\u001b[0m\u001b[0m_setattr_cm\u001b[0m\u001b[0;34m(\u001b[0m\u001b[0mrenderer\u001b[0m\u001b[0;34m,\u001b[0m \u001b[0mdpi\u001b[0m\u001b[0;34m=\u001b[0m\u001b[0mself\u001b[0m\u001b[0;34m.\u001b[0m\u001b[0mfigure\u001b[0m\u001b[0;34m.\u001b[0m\u001b[0mdpi\u001b[0m\u001b[0;34m)\u001b[0m\u001b[0;34m,\u001b[0m\u001b[0;31m \u001b[0m\u001b[0;31m\\\u001b[0m\u001b[0;34m\u001b[0m\u001b[0m\n\u001b[0;32m--> 521\u001b[0;31m                 \u001b[0mcbook\u001b[0m\u001b[0;34m.\u001b[0m\u001b[0mopen_file_cm\u001b[0m\u001b[0;34m(\u001b[0m\u001b[0mfilename_or_obj\u001b[0m\u001b[0;34m,\u001b[0m \u001b[0;34m\"wb\"\u001b[0m\u001b[0;34m)\u001b[0m \u001b[0;32mas\u001b[0m \u001b[0mfh\u001b[0m\u001b[0;34m:\u001b[0m\u001b[0;34m\u001b[0m\u001b[0m\n\u001b[0m\u001b[1;32m    522\u001b[0m             _png.write_png(renderer._renderer, fh,\n\u001b[1;32m    523\u001b[0m                             self.figure.dpi, metadata=metadata)\n",
      "\u001b[0;32m/Library/Frameworks/Python.framework/Versions/3.6/lib/python3.6/contextlib.py\u001b[0m in \u001b[0;36m__enter__\u001b[0;34m(self)\u001b[0m\n\u001b[1;32m     80\u001b[0m     \u001b[0;32mdef\u001b[0m \u001b[0m__enter__\u001b[0m\u001b[0;34m(\u001b[0m\u001b[0mself\u001b[0m\u001b[0;34m)\u001b[0m\u001b[0;34m:\u001b[0m\u001b[0;34m\u001b[0m\u001b[0m\n\u001b[1;32m     81\u001b[0m         \u001b[0;32mtry\u001b[0m\u001b[0;34m:\u001b[0m\u001b[0;34m\u001b[0m\u001b[0m\n\u001b[0;32m---> 82\u001b[0;31m             \u001b[0;32mreturn\u001b[0m \u001b[0mnext\u001b[0m\u001b[0;34m(\u001b[0m\u001b[0mself\u001b[0m\u001b[0;34m.\u001b[0m\u001b[0mgen\u001b[0m\u001b[0;34m)\u001b[0m\u001b[0;34m\u001b[0m\u001b[0m\n\u001b[0m\u001b[1;32m     83\u001b[0m         \u001b[0;32mexcept\u001b[0m \u001b[0mStopIteration\u001b[0m\u001b[0;34m:\u001b[0m\u001b[0;34m\u001b[0m\u001b[0m\n\u001b[1;32m     84\u001b[0m             \u001b[0;32mraise\u001b[0m \u001b[0mRuntimeError\u001b[0m\u001b[0;34m(\u001b[0m\u001b[0;34m\"generator didn't yield\"\u001b[0m\u001b[0;34m)\u001b[0m \u001b[0;32mfrom\u001b[0m \u001b[0;32mNone\u001b[0m\u001b[0;34m\u001b[0m\u001b[0m\n",
      "\u001b[0;32m/Library/Frameworks/Python.framework/Versions/3.6/lib/python3.6/site-packages/matplotlib/cbook/__init__.py\u001b[0m in \u001b[0;36mopen_file_cm\u001b[0;34m(path_or_file, mode, encoding)\u001b[0m\n\u001b[1;32m    405\u001b[0m \u001b[0;32mdef\u001b[0m \u001b[0mopen_file_cm\u001b[0m\u001b[0;34m(\u001b[0m\u001b[0mpath_or_file\u001b[0m\u001b[0;34m,\u001b[0m \u001b[0mmode\u001b[0m\u001b[0;34m=\u001b[0m\u001b[0;34m\"r\"\u001b[0m\u001b[0;34m,\u001b[0m \u001b[0mencoding\u001b[0m\u001b[0;34m=\u001b[0m\u001b[0;32mNone\u001b[0m\u001b[0;34m)\u001b[0m\u001b[0;34m:\u001b[0m\u001b[0;34m\u001b[0m\u001b[0m\n\u001b[1;32m    406\u001b[0m     \u001b[0;34mr\"\"\"Pass through file objects and context-manage `.PathLike`\\s.\"\"\"\u001b[0m\u001b[0;34m\u001b[0m\u001b[0m\n\u001b[0;32m--> 407\u001b[0;31m     \u001b[0mfh\u001b[0m\u001b[0;34m,\u001b[0m \u001b[0mopened\u001b[0m \u001b[0;34m=\u001b[0m \u001b[0mto_filehandle\u001b[0m\u001b[0;34m(\u001b[0m\u001b[0mpath_or_file\u001b[0m\u001b[0;34m,\u001b[0m \u001b[0mmode\u001b[0m\u001b[0;34m,\u001b[0m \u001b[0;32mTrue\u001b[0m\u001b[0;34m,\u001b[0m \u001b[0mencoding\u001b[0m\u001b[0;34m)\u001b[0m\u001b[0;34m\u001b[0m\u001b[0m\n\u001b[0m\u001b[1;32m    408\u001b[0m     \u001b[0;32mif\u001b[0m \u001b[0mopened\u001b[0m\u001b[0;34m:\u001b[0m\u001b[0;34m\u001b[0m\u001b[0m\n\u001b[1;32m    409\u001b[0m         \u001b[0;32mwith\u001b[0m \u001b[0mfh\u001b[0m\u001b[0;34m:\u001b[0m\u001b[0;34m\u001b[0m\u001b[0m\n",
      "\u001b[0;32m/Library/Frameworks/Python.framework/Versions/3.6/lib/python3.6/site-packages/matplotlib/cbook/__init__.py\u001b[0m in \u001b[0;36mto_filehandle\u001b[0;34m(fname, flag, return_opened, encoding)\u001b[0m\n\u001b[1;32m    390\u001b[0m             \u001b[0mfh\u001b[0m \u001b[0;34m=\u001b[0m \u001b[0mbz2\u001b[0m\u001b[0;34m.\u001b[0m\u001b[0mBZ2File\u001b[0m\u001b[0;34m(\u001b[0m\u001b[0mfname\u001b[0m\u001b[0;34m,\u001b[0m \u001b[0mflag\u001b[0m\u001b[0;34m)\u001b[0m\u001b[0;34m\u001b[0m\u001b[0m\n\u001b[1;32m    391\u001b[0m         \u001b[0;32melse\u001b[0m\u001b[0;34m:\u001b[0m\u001b[0;34m\u001b[0m\u001b[0m\n\u001b[0;32m--> 392\u001b[0;31m             \u001b[0mfh\u001b[0m \u001b[0;34m=\u001b[0m \u001b[0mopen\u001b[0m\u001b[0;34m(\u001b[0m\u001b[0mfname\u001b[0m\u001b[0;34m,\u001b[0m \u001b[0mflag\u001b[0m\u001b[0;34m,\u001b[0m \u001b[0mencoding\u001b[0m\u001b[0;34m=\u001b[0m\u001b[0mencoding\u001b[0m\u001b[0;34m)\u001b[0m\u001b[0;34m\u001b[0m\u001b[0m\n\u001b[0m\u001b[1;32m    393\u001b[0m         \u001b[0mopened\u001b[0m \u001b[0;34m=\u001b[0m \u001b[0;32mTrue\u001b[0m\u001b[0;34m\u001b[0m\u001b[0m\n\u001b[1;32m    394\u001b[0m     \u001b[0;32melif\u001b[0m \u001b[0mhasattr\u001b[0m\u001b[0;34m(\u001b[0m\u001b[0mfname\u001b[0m\u001b[0;34m,\u001b[0m \u001b[0;34m'seek'\u001b[0m\u001b[0;34m)\u001b[0m\u001b[0;34m:\u001b[0m\u001b[0;34m\u001b[0m\u001b[0m\n",
      "\u001b[0;31mFileNotFoundError\u001b[0m: [Errno 2] No such file or directory: './fig/RidgeRegression_weight.png'"
     ]
    }
   ],
   "source": [
    "lw = 2\n",
    "#plt.figure(figsize=(6, 5))\n",
    "colors = ['magenta', 'green', 'blue' , 'red', ]\n",
    "legen = [\"Ridge Regression\", \"Lasso\", \"Bayesian Ridge\", \"Elastic Net\"]\n",
    "for j in range(0, 4):\n",
    "      fig = plt.gcf()\n",
    "      plt.title(\"Weights of the model\")\n",
    "      plt.plot(coef[:, j], color=colors[j], linestyle='-', label=legen[j])\n",
    "      plt.xlabel(\"Features\")\n",
    "      plt.ylabel(\"Values of the weights\")\n",
    "      plt.legend(loc=\"best\", prop=dict(size=12))\n",
    "      plt.show()\n",
    "      fig.savefig(\"./fig/\"+histfile[j] + \"_weight.png\",bbox_inches='tight', \n",
    "               transparent=False,\n",
    "               pad_inches=0.1)"
   ]
  },
  {
   "cell_type": "code",
   "execution_count": null,
   "metadata": {},
   "outputs": [],
   "source": [
    "fig = plt.gcf()\n",
    "      plt.title(\"Weights of the model\")\n",
    "      plt.plot(coef[:, j], color=colors[j], linestyle='-', label=legen[j])\n",
    "      plt.xlabel(\"Features\")\n",
    "      plt.ylabel(\"Values of the weights\")\n",
    "      plt.legend(loc=\"best\", prop=dict(size=12))\n",
    "      plt.show()\n",
    "      fig.savefig(\"./fig/\"+histfile[j] + \"_weight.png\",bbox_inches='tight', \n",
    "               transparent=False,\n",
    "               pad_inches=0.1)"
   ]
  },
  {
   "cell_type": "code",
   "execution_count": 468,
   "metadata": {},
   "outputs": [
    {
     "data": {
      "image/png": "[encoded data removed]",
      "text/plain": [
       "<Figure size 432x288 with 1 Axes>"
      ]
     },
     "metadata": {},
     "output_type": "display_data"
    },
    {
     "data": {
      "image/png": "[encoded data removed]",
      "text/plain": [
       "<Figure size 432x288 with 1 Axes>"
      ]
     },
     "metadata": {},
     "output_type": "display_data"
    },
    {
     "data": {
      "image/png": "[encoded data removed]",
      "text/plain": [
       "<Figure size 432x288 with 1 Axes>"
      ]
     },
     "metadata": {},
     "output_type": "display_data"
    },
    {
     "data": {
      "image/png": "[encoded data removed]",
      "text/plain": [
       "<Figure size 432x288 with 1 Axes>"
      ]
     },
     "metadata": {},
     "output_type": "display_data"
    }
   ],
   "source": [
    "lw = 2\n",
    "#plt.figure(figsize=(6, 5))\n",
    "colors = ['magenta', 'green', 'blue' , 'red', ]\n",
    "legen = [\"Ridge Regression\", \"Lasso\", \"Bayesian Ridge\", \"Elastic Net\"]\n",
    "histfile = [\"RidgeRegression\", \"Lasso\", \"BayesianRidge\", \"ElasticNet\"]\n",
    "\n",
    "for j in range(0, 4):\n",
    "      fig = plt.gcf()\n",
    "      plt.title(\"Histogram of the weights\")\n",
    "      plt.hist(coef[:, j], bins=328, color=colors[j], linestyle='-', log=True, label=legen[j])\n",
    "      plt.scatter(coef[:,j][vt_ind], np.full(len(vt_ind), 5.), color='black', label=\"Variance Threshold \", linewidth=5)\n",
    "      plt.scatter(coef[:,j][freg_ind], np.full(len(freg_ind), 5.), color='lightgreen', label=\"F_regression \")\n",
    "      plt.xlabel(\"Values of the weights\")\n",
    "      plt.ylabel(\"Features\")\n",
    "      plt.legend(loc=\"upper left\")\n",
    "      plt.show()\n",
    "      fig.savefig(\"./fig/\"+histfile[j] + \".png\",bbox_inches='tight', \n",
    "               transparent=False,\n",
    "               pad_inches=0.1)"
   ]
  },
  {
   "cell_type": "code",
   "execution_count": 364,
   "metadata": {},
   "outputs": [
    {
     "name": "stdout",
     "output_type": "stream",
     "text": [
      "(328, 1)\n"
     ]
    },
    {
     "data": {
      "image/png": "[encoded data removed]",
      "text/plain": [
       "<Figure size 432x360 with 1 Axes>"
      ]
     },
     "metadata": {},
     "output_type": "display_data"
    },
    {
     "name": "stdout",
     "output_type": "stream",
     "text": [
      "[[0.00488428]]\n"
     ]
    }
   ],
   "source": []
  },
  {
   "cell_type": "code",
   "execution_count": 274,
   "metadata": {},
   "outputs": [],
   "source": [
    "#plt.figure(figsize=(6, 5))\n",
    "plt.title(\"Weights of the model\")\n",
    "plt.plot(ridge_regr.scores, color='navy', linestyle='-', label=\"Ridge Regression\")\n",
    "plt.plot(lasso_regr.coef_, color='blue', linestyle='--', linewidth=lw,label=\"Lasso\")\n",
    "plt.plot(enet.coef_, color='red', linestyle='--', linewidth=lw,label=\"Elastic Net\")\n",
    "plt.plot(bay_regr.coef_, color='yellow', linestyle='--', linewidth=lw,label=\"Bayesian Ridge\")\n",
    "plt.xlabel(\"Features\")\n",
    "plt.ylabel(\"Values of the weights\")\n",
    "plt.legend(loc=\"best\", prop=dict(size=12))\n",
    "plt.show()"
   ]
  },
  {
   "cell_type": "code",
   "execution_count": null,
   "metadata": {},
   "outputs": [],
   "source": [
    "print(\"Mean squared error: %.4f\"\n",
    "      % mean_squared_error(y_test, y_pred))\n",
    "# Explained variance score: 1 is perfect prediction\n",
    "print('Variance score: %.2f' % r2_score(y_test, y_pred))"
   ]
  },
  {
   "cell_type": "code",
   "execution_count": 450,
   "metadata": {},
   "outputs": [
    {
     "name": "stdout",
     "output_type": "stream",
     "text": [
      "[[0.01851649 0.17051892]\n",
      " [0.02216829 0.00692932]\n",
      " [0.01791664 0.19739023]\n",
      " [0.019437   0.1292829 ]]\n"
     ]
    }
   ],
   "source": [
    "print(mean_r2)"
   ]
  },
  {
   "cell_type": "code",
   "execution_count": 273,
   "metadata": {},
   "outputs": [
    {
     "name": "stdout",
     "output_type": "stream",
     "text": [
      "Mean squared error: 0.0202\n"
     ]
    },
    {
     "name": "stderr",
     "output_type": "stream",
     "text": [
      "/Library/Frameworks/Python.framework/Versions/3.6/lib/python3.6/site-packages/sklearn/feature_selection/univariate_selection.py:299: RuntimeWarning: invalid value encountered in true_divide\n",
      "  corr /= X_norms\n",
      "/Library/Frameworks/Python.framework/Versions/3.6/lib/python3.6/site-packages/scipy/stats/_distn_infrastructure.py:877: RuntimeWarning: invalid value encountered in greater\n",
      "  return (self.a < x) & (x < self.b)\n",
      "/Library/Frameworks/Python.framework/Versions/3.6/lib/python3.6/site-packages/scipy/stats/_distn_infrastructure.py:877: RuntimeWarning: invalid value encountered in less\n",
      "  return (self.a < x) & (x < self.b)\n",
      "/Library/Frameworks/Python.framework/Versions/3.6/lib/python3.6/site-packages/scipy/stats/_distn_infrastructure.py:1831: RuntimeWarning: invalid value encountered in less_equal\n",
      "  cond2 = cond0 & (x <= self.a)\n"
     ]
    }
   ],
   "source": [
    "#feature selection\n",
    "from sklearn.feature_selection import SelectKBest\n",
    "from sklearn.feature_selection import f_regression\n",
    "from sklearn.feature_selection import mutual_info_regression\n",
    "model = SelectKBest(score_func=f_regression,k=50).fit(x_train, y_train.ravel())\n",
    "i = model.get_support(indices=True)\n",
    "\n",
    "regr = linear_model.Ridge(alpha=.09)\n",
    "regr.fit(x_train[:,i], y_train.ravel())\n",
    "y_p = regr.predict(x_test[:,i])\n",
    "print(\"Mean squared error: %.4f\"\n",
    "      % mean_squared_error(y_test, y_p))\n"
   ]
  },
  {
   "cell_type": "code",
   "execution_count": 182,
   "metadata": {},
   "outputs": [
    {
     "name": "stdout",
     "output_type": "stream",
     "text": [
      "[[0.13842 ]\n",
      " [0.28404 ]\n",
      " [0.30413 ]\n",
      " ...\n",
      " [0.057896]\n",
      " [0.46504 ]\n",
      " [0.36543 ]]\n"
     ]
    }
   ],
   "source": [
    "print(y_test)"
   ]
  },
  {
   "cell_type": "code",
   "execution_count": null,
   "metadata": {},
   "outputs": [],
   "source": []
  }
 ],
 "metadata": {
  "kernelspec": {
   "display_name": "Python 3",
   "language": "python",
   "name": "python3"
  },
  "language_info": {
   "codemirror_mode": {
    "name": "ipython",
    "version": 3
   },
   "file_extension": ".py",
   "mimetype": "text/x-python",
   "name": "python",
   "nbconvert_exporter": "python",
   "pygments_lexer": "ipython3",
   "version": "3.6.1"
  }
 },
 "nbformat": 4,
 "nbformat_minor": 1
}
