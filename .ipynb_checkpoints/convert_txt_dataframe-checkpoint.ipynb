{
 "cells": [
  {
   "cell_type": "code",
   "execution_count": null,
   "metadata": {},
   "outputs": [],
   "source": [
    "# author: Jing Wang jing.julia.wang@gmail.com\n",
    "# date: May 7th 2019\n",
    "# function: convert txt files to dataframe "
   ]
  },
  {
   "cell_type": "code",
   "execution_count": 153,
   "metadata": {},
   "outputs": [
    {
     "name": "stdout",
     "output_type": "stream",
     "text": [
      "Automatically created module for IPython interactive environment\n"
     ]
    }
   ],
   "source": [
    "print(__doc__)\n",
    "\n",
    "\n",
    "from sklearn.linear_model import ElasticNetCV\n",
    "from sklearn.datasets import make_regression\n",
    "import matplotlib.pyplot as plt\n",
    "import numpy as np\n",
    "from sklearn import datasets, linear_model\n",
    "from sklearn.metrics import mean_squared_error, r2_score\n",
    "from sklearn.model_selection import train_test_split\n",
    "from sklearn.feature_selection import VarianceThreshold\n",
    "from sklearn.feature_selection import SelectKBest\n",
    "from sklearn.feature_selection import f_regression\n",
    "import scipy.io as sio\n",
    "from matplotlib.pyplot import savefig\n",
    "import matplotlib\n",
    "import pandas as pd"
   ]
  },
  {
   "cell_type": "code",
   "execution_count": 211,
   "metadata": {
    "scrolled": false
   },
   "outputs": [
    {
     "name": "stdout",
     "output_type": "stream",
     "text": [
      "8643\n"
     ]
    }
   ],
   "source": [
    "dataframe_path = '~/Box/DataFrame_dataGeneTcgaLf_v2.csv'\n",
    "\n",
    "matrix = np.loadtxt('data_gene_TCGA_LF_v2.txt', usecols=range(301))\n",
    "fr_matrix = np.genfromtxt('fr_data_gene_TCGA_LF_v2.txt', dtype='str',delimiter='\\t')\n",
    "fc_matrix = np.genfromtxt('fc_data_gene_TCGA_LF_v2.txt', dtype='str',delimiter='\\t')\n",
    "tcga = np.ndarray((len(fc_matrix)-1,1), dtype='object') #get gene names by removing symbol, TCGA Study and leukocyte fraction\n",
    "for i in range(1, len(fc_matrix)):\n",
    "    tcga[i-1] = fc_matrix[i][0][:12]\n",
    "\n",
    "## rename index 300\n",
    "#fr_matrix[300][0] = \"acronym\"\n",
    "\n",
    "# append to data\n",
    "print(tcga.size) #8643\n",
    "tcgamatrix = np.concatenate((tcga,matrix),axis = 1)\n",
    "newcol = fr_matrix[1:,0]\n",
    "newcol = np.append( 'bcr_patient_barcode', newcol)\n",
    "\n",
    "matrix_df = pd.DataFrame(tcgamatrix, columns = newcol)\n",
    "matrix_df.to_csv(dataframe_path, index = False)\n",
    "    \n"
   ]
  }
 ],
 "metadata": {
  "kernelspec": {
   "display_name": "Python 3",
   "language": "python",
   "name": "python3"
  },
  "language_info": {
   "codemirror_mode": {
    "name": "ipython",
    "version": 3
   },
   "file_extension": ".py",
   "mimetype": "text/x-python",
   "name": "python",
   "nbconvert_exporter": "python",
   "pygments_lexer": "ipython3",
   "version": "3.6.1"
  }
 },
 "nbformat": 4,
 "nbformat_minor": 1
}
