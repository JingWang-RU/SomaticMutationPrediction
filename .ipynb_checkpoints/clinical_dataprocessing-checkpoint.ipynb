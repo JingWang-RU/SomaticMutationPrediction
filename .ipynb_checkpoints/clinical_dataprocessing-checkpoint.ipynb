{
 "cells": [
  {
   "cell_type": "code",
   "execution_count": null,
   "metadata": {},
   "outputs": [],
   "source": [
    "# Author: Jing jing.julia.wang@gmail.com\n",
    "# Date: May 7th 2019\n",
    "# Function: read and process data\n",
    "#           make change to the data file path e.g. clinical_path and gene_path"
   ]
  },
  {
   "cell_type": "code",
   "execution_count": 85,
   "metadata": {},
   "outputs": [
    {
     "name": "stdout",
     "output_type": "stream",
     "text": [
      "Automatically created module for IPython interactive environment\n"
     ]
    }
   ],
   "source": [
    "from __future__ import division\n",
    "\n",
    "print(__doc__)\n",
    "from sklearn.linear_model import ElasticNetCV\n",
    "from sklearn.datasets import make_regression\n",
    "import matplotlib.pyplot as plt\n",
    "import numpy as np\n",
    "from sklearn import datasets, linear_model\n",
    "from sklearn.metrics import mean_squared_error, r2_score\n",
    "from sklearn.model_selection import train_test_split\n",
    "from sklearn.feature_selection import VarianceThreshold\n",
    "from sklearn.feature_selection import SelectKBest\n",
    "from sklearn.feature_selection import f_regression\n",
    "import scipy.io as sio\n",
    "from matplotlib.pyplot import savefig\n",
    "import matplotlib\n",
    "import pandas as pd\n"
   ]
  },
  {
   "cell_type": "code",
   "execution_count": 795,
   "metadata": {},
   "outputs": [
    {
     "name": "stderr",
     "output_type": "stream",
     "text": [
      "/usr/local/lib/python3.7/site-packages/IPython/core/interactiveshell.py:3049: DtypeWarning: Columns (5,7,20,22,42,44,45,46,47,49,50,51,52,77,80,81,82,84,85,86,87,89,90,91,92,93,116,117,118,119,120,121,122,123,124,125,126,127,128,129,130,131,132,133,134,135,137,138,139,140,141,142,143,144,145,146,148,150,151,153,155,156,157,158,159,162,164,166,167,168,169,170,171,176,177,178,181,182,184,188,189,191,193,194,195,196,197,198,199,200,201,202,203,204,205,207,211,212,214,215,216,218,220,221,222,224,225,226,227,228,229,230,231,232,233,234,236,237,238,239,241,242,250,251,252,253,254,255,256,257,258,259,260,261,262,264,265,268,269,270,271,272,273,274,275,276,277,278,279,280,281,282,283,284,285,286,287,288,289,290,291,292,293,294,295,296,297,298,299,300,301,302,303,304,305,306,307,308,310,311,314,315,316,317,318,319,320,321,322,323,324,325,327,328,333,334,335,336,339,341,342,343,344,345,346,347,350,351,352,353,354,355,357,358,360,361,362,363,364,365,366,367,368,369,370,371,372,373,374,376,377,378,379,381,382,383,384,385,386,387,388,401,402,410,413,414,417,418,419,420,421,423,424,425,426,428,429,430,431,436,439,440,442,444,445,447,448,449,450,451,452,453,457,458,459,460,462,463,464,465,466,468,469,470,471,472,473,474,475,477,478,479,480,481,482,483,485,486,487,489,490,491,492,494,495,496,498,499,500,501,502,503,505,507,508,509,510,511,514,515,516,517,519,520,521,522,523,524,525,527,528,529,530,531,532,533,534,535,536,537,540,542,543,545,547,548,549,550,551,552,553,559,560,562,563,564,565,567,568,569,570,571,572,573,574,575,576,577,578,579,580,582,584,585,586,587,589,590,591,592,593,594,595,596,597,598,601,605,606,607,608,609,612,613,615,616,617,618,619,620,621,626,628,630,636,637,640,641,642,643,644,646,647,648,649,650,651,652,653,654,655,656,657,660,661,662,667,669,670,671,674,680,681,682,684,685,686,687,690,691,692,695,698,700,703,708,711,712,716,721,722,724,725,733,738,743) have mixed types. Specify dtype option on import or set low_memory=False.\n"
     ]
    }
   ],
   "source": [
    "clinical_path = \"~/Box/TCGA_PanCanAtlas_2018/GDC_Data_2018/\"\n",
    "clinical_data = pd.read_csv(clinical_path+\"clinical_PANCAN_patient_with_followup.tsv\",\\\n",
    "                            na_values=['[Not Available]','[Unknown]','[Not Evaluated]'], sep = '\\t',encoding = \"ISO-8859-1\")\n",
    "#drop(clinical_data.columns[0], axis=1)\n",
    "\n",
    "cols = ['bcr_patient_barcode','gender','race','age_at_initial_pathologic_diagnosis']\n",
    "cdata = clinical_data[cols]\n",
    "\n",
    "gene_path = \"~/Box/codePython/DataFrame_dataGeneTcgaLf_v2.csv\"\n",
    "gene_data = pd.read_csv(gene_path, dtype='object')\n",
    "\n",
    "clin_gene = pd.merge(cdata, gene_data, how='inner', on=[cols[0]])\n"
   ]
  },
  {
   "cell_type": "code",
   "execution_count": 747,
   "metadata": {
    "scrolled": true
   },
   "outputs": [
    {
     "name": "stdout",
     "output_type": "stream",
     "text": [
      "The shape of clinical data   (10956, 746)\n",
      "The shape of gene data  (8643, 302)\n",
      "The shape of their intersection  (8595, 305)\n"
     ]
    }
   ],
   "source": [
    "print(\"The shape of clinical data  \", (clinical_data.shape))\n",
    "print(\"The shape of gene data \", (gene_data.shape))\n",
    "print(\"The shape of their intersection \", (clin_gene.shape))\n"
   ]
  },
  {
   "cell_type": "code",
   "execution_count": 748,
   "metadata": {},
   "outputs": [
    {
     "name": "stdout",
     "output_type": "stream",
     "text": [
      "# missing in gender  0\n",
      "# missing in race  979\n",
      "# missing in age_at_initial_pathologic_diagnosis  45\n"
     ]
    }
   ],
   "source": [
    "for i in range(1, len(cols)):\n",
    "    tmp = len(clin_gene[cols[i]])-clin_gene[cols[i]].count() \n",
    "    print(\"# missing in \" + cols[i] + \"  %d\" % tmp )"
   ]
  },
  {
   "cell_type": "code",
   "execution_count": 796,
   "metadata": {
    "scrolled": true
   },
   "outputs": [
    {
     "name": "stdout",
     "output_type": "stream",
     "text": [
      "# missing remove 989 \n",
      "[array(['FEMALE', 'MALE'], dtype=object), array(['AMERICAN INDIAN OR ALASKA NATIVE', 'ASIAN',\n",
      "       'BLACK OR AFRICAN AMERICAN',\n",
      "       'NATIVE HAWAIIAN OR OTHER PACIFIC ISLANDER', 'WHITE'], dtype=object)]\n"
     ]
    }
   ],
   "source": [
    "fu_clin_gene = clin_gene\n",
    "pre_size = fu_clin_gene.shape[0]\n",
    "fu_clin_gene = fu_clin_gene.dropna()\n",
    "fu_clin_gene.index = list(range(0, fu_clin_gene.shape[0]))\n",
    "\n",
    "post_size = fu_clin_gene.shape[0]\n",
    "\n",
    "print(\"# missing remove %d \" % (pre_size-post_size))\n",
    "unique_set = []\n",
    "for i in range(1, len(cols)-1):\n",
    "    tmp = fu_clin_gene[cols[i]].values\n",
    "    unique_set.append(np.unique(tmp))\n",
    "    \n",
    "    #print(cols[i], np.unique(tmp))\n",
    "print(unique_set)\n"
   ]
  },
  {
   "cell_type": "code",
   "execution_count": 797,
   "metadata": {},
   "outputs": [],
   "source": [
    "fu_clin_gene=fu_clin_gene.replace({'FEMALE':0, 'MALE':1, 'AMERICAN INDIAN OR ALASKA NATIVE':0, \\\n",
    "                                  'ASIAN':1,'BLACK OR AFRICAN AMERICAN':2,\\\n",
    "                                   'NATIVE HAWAIIAN OR OTHER PACIFIC ISLANDER':3, 'WHITE':4})"
   ]
  },
  {
   "cell_type": "code",
   "execution_count": 497,
   "metadata": {},
   "outputs": [
    {
     "data": {
      "image/png": "[encoded data removed]",
      "text/plain": [
       "<Figure size 455.725x360 with 1 Axes>"
      ]
     },
     "metadata": {
      "needs_background": "light"
     },
     "output_type": "display_data"
    }
   ],
   "source": [
    "import seaborn as sns\n",
    "\n",
    "#sns.catplot(x=\"deck\", kind=\"count\", palette=\"ch:.25\", data=titanic);\n",
    "sns_plot = sns.catplot( hue = \"gender\", x = \"race\", y=\"age_at_initial_pathologic_diagnosis\", kind = \"bar\", palette = \"pastel\", data = fu_clin_gene);\n",
    "sns_plot.savefig(\"./out/clinical/age_gender_race.pdf\")\n"
   ]
  },
  {
   "cell_type": "code",
   "execution_count": 798,
   "metadata": {},
   "outputs": [
    {
     "name": "stdout",
     "output_type": "stream",
     "text": [
      "(7606, 305)\n",
      "     bcr_patient_barcode  gender  race  age_at_initial_pathologic_diagnosis  \\\n",
      "0           TCGA-OR-A5J2       0     4                                 44.0   \n",
      "1           TCGA-OR-A5J4       0     4                                 23.0   \n",
      "2           TCGA-OR-A5J5       1     4                                 30.0   \n",
      "3           TCGA-OR-A5J9       0     4                                 22.0   \n",
      "4           TCGA-OR-A5JA       0     4                                 53.0   \n",
      "5           TCGA-OR-A5JB       1     4                                 52.0   \n",
      "6           TCGA-OR-A5JC       1     4                                 37.0   \n",
      "7           TCGA-OR-A5JE       0     4                                 17.0   \n",
      "8           TCGA-OR-A5JF       0     4                                 69.0   \n",
      "9           TCGA-OR-A5JG       1     4                                 61.0   \n",
      "10          TCGA-OR-A5JJ       1     4                                 65.0   \n",
      "11          TCGA-OR-A5JL       0     4                                 36.0   \n",
      "12          TCGA-OR-A5JM       0     4                                 25.0   \n",
      "13          TCGA-OR-A5JP       1     4                                 40.0   \n",
      "14          TCGA-OR-A5JS       0     4                                 65.0   \n",
      "15          TCGA-OR-A5JT       0     4                                 65.0   \n",
      "16          TCGA-OR-A5JX       1     4                                 50.0   \n",
      "17          TCGA-OR-A5JY       0     4                                 68.0   \n",
      "18          TCGA-OR-A5K0       0     4                                 69.0   \n",
      "19          TCGA-OR-A5K2       0     4                                 32.0   \n",
      "20          TCGA-OR-A5K4       0     4                                 64.0   \n",
      "21          TCGA-OR-A5K5       0     4                                 59.0   \n",
      "22          TCGA-OR-A5K6       0     4                                 56.0   \n",
      "23          TCGA-OR-A5K9       0     4                                 61.0   \n",
      "24          TCGA-OR-A5KO       0     4                                 39.0   \n",
      "25          TCGA-OR-A5KT       0     4                                 44.0   \n",
      "26          TCGA-OR-A5KU       0     4                                 37.0   \n",
      "27          TCGA-OR-A5KV       0     4                                 17.0   \n",
      "28          TCGA-OR-A5KW       0     4                                 55.0   \n",
      "29          TCGA-OR-A5KY       0     4                                 23.0   \n",
      "...                  ...     ...   ...                                  ...   \n",
      "7576        TCGA-V4-A9EX       0     4                                 55.0   \n",
      "7577        TCGA-V4-A9EY       0     4                                 66.0   \n",
      "7578        TCGA-V4-A9EZ       0     4                                 78.0   \n",
      "7579        TCGA-V4-A9F0       1     4                                 59.0   \n",
      "7580        TCGA-V4-A9F1       0     4                                 46.0   \n",
      "7581        TCGA-V4-A9F2       0     4                                 78.0   \n",
      "7582        TCGA-V4-A9F3       0     4                                 49.0   \n",
      "7583        TCGA-V4-A9F4       1     4                                 41.0   \n",
      "7584        TCGA-V4-A9F5       0     4                                 85.0   \n",
      "7585        TCGA-V4-A9F7       0     4                                 78.0   \n",
      "7586        TCGA-V4-A9F8       1     4                                 68.0   \n",
      "7587        TCGA-WC-A87T       1     4                                 64.0   \n",
      "7588        TCGA-WC-A87U       1     4                                 73.0   \n",
      "7589        TCGA-WC-A87W       0     4                                 57.0   \n",
      "7590        TCGA-WC-A87Y       1     4                                 59.0   \n",
      "7591        TCGA-WC-A880       1     4                                 63.0   \n",
      "7592        TCGA-WC-A881       1     4                                 75.0   \n",
      "7593        TCGA-WC-A882       0     4                                 50.0   \n",
      "7594        TCGA-WC-A883       0     4                                 76.0   \n",
      "7595        TCGA-WC-A884       0     4                                 35.0   \n",
      "7596        TCGA-WC-A885       1     4                                 60.0   \n",
      "7597        TCGA-WC-A888       1     4                                 76.0   \n",
      "7598        TCGA-WC-A88A       1     4                                 75.0   \n",
      "7599        TCGA-WC-AA9A       0     4                                 70.0   \n",
      "7600        TCGA-WC-AA9E       1     4                                 60.0   \n",
      "7601        TCGA-YZ-A980       1     4                                 75.0   \n",
      "7602        TCGA-YZ-A982       0     4                                 79.0   \n",
      "7603        TCGA-YZ-A983       0     4                                 51.0   \n",
      "7604        TCGA-YZ-A984       0     4                                 50.0   \n",
      "7605        TCGA-YZ-A985       0     4                                 41.0   \n",
      "\n",
      "     ABL1 ACVR1 ACVR1B ACVR2A AJUBA AKT1  ... ZCCHC12 ZFHX3 ZFP36L1 ZFP36L2  \\\n",
      "0     0.0   0.0    0.0    0.0   0.0  0.0  ...     0.0   0.0     0.0     0.0   \n",
      "1     0.0   0.0    0.0    0.0   0.0  0.0  ...     0.0   0.0     0.0     0.0   \n",
      "2     0.0   0.0    0.0    0.0   0.0  0.0  ...     0.0   0.0     0.0     0.0   \n",
      "3     0.0   0.0    0.0    0.0   0.0  0.0  ...     0.0   0.0     0.0     0.0   \n",
      "4     0.0   0.0    0.0    0.0   0.0  0.0  ...     0.0   0.0     0.0     0.0   \n",
      "5     0.0   0.0    0.0    0.0   0.0  0.0  ...     0.0   1.0     0.0     0.0   \n",
      "6     0.0   0.0    0.0    0.0   0.0  0.0  ...     0.0   0.0     0.0     0.0   \n",
      "7     0.0   0.0    0.0    0.0   0.0  0.0  ...     0.0   0.0     0.0     0.0   \n",
      "8     0.0   0.0    0.0    0.0   0.0  0.0  ...     0.0   0.0     0.0     0.0   \n",
      "9     0.0   0.0    0.0    0.0   0.0  0.0  ...     0.0   0.0     0.0     0.0   \n",
      "10    0.0   0.0    0.0    0.0   0.0  0.0  ...     0.0   0.0     0.0     0.0   \n",
      "11    0.0   0.0    0.0    0.0   0.0  0.0  ...     0.0   0.0     0.0     0.0   \n",
      "12    0.0   0.0    0.0    0.0   0.0  0.0  ...     0.0   0.0     0.0     0.0   \n",
      "13    0.0   0.0    0.0    0.0   0.0  0.0  ...     0.0   0.0     0.0     0.0   \n",
      "14    0.0   0.0    0.0    0.0   0.0  0.0  ...     0.0   0.0     0.0     0.0   \n",
      "15    0.0   0.0    0.0    0.0   0.0  0.0  ...     0.0   0.0     0.0     0.0   \n",
      "16    0.0   0.0    0.0    0.0   0.0  0.0  ...     0.0   0.0     0.0     0.0   \n",
      "17    0.0   0.0    0.0    0.0   0.0  0.0  ...     0.0   0.0     0.0     0.0   \n",
      "18    0.0   0.0    0.0    0.0   0.0  0.0  ...     0.0   0.0     0.0     0.0   \n",
      "19    0.0   0.0    0.0    0.0   0.0  0.0  ...     0.0   0.0     0.0     0.0   \n",
      "20    0.0   0.0    0.0    0.0   0.0  0.0  ...     0.0   0.0     0.0     0.0   \n",
      "21    0.0   0.0    0.0    0.0   0.0  0.0  ...     0.0   0.0     0.0     0.0   \n",
      "22    0.0   0.0    0.0    0.0   0.0  0.0  ...     0.0   0.0     0.0     0.0   \n",
      "23    0.0   0.0    0.0    0.0   0.0  0.0  ...     0.0   0.0     0.0     0.0   \n",
      "24    0.0   0.0    0.0    0.0   0.0  0.0  ...     0.0   0.0     0.0     0.0   \n",
      "25    0.0   0.0    0.0    0.0   0.0  0.0  ...     0.0   0.0     0.0     0.0   \n",
      "26    0.0   0.0    0.0    0.0   0.0  0.0  ...     0.0   0.0     0.0     0.0   \n",
      "27    0.0   0.0    0.0    0.0   0.0  0.0  ...     0.0   0.0     0.0     0.0   \n",
      "28    0.0   0.0    0.0    0.0   0.0  0.0  ...     0.0   0.0     0.0     0.0   \n",
      "29    0.0   0.0    0.0    0.0   0.0  0.0  ...     0.0   0.0     0.0     0.0   \n",
      "...   ...   ...    ...    ...   ...  ...  ...     ...   ...     ...     ...   \n",
      "7576  0.0   0.0    0.0    0.0   0.0  0.0  ...     0.0   0.0     0.0     0.0   \n",
      "7577  0.0   0.0    0.0    0.0   0.0  0.0  ...     0.0   0.0     0.0     0.0   \n",
      "7578  0.0   0.0    0.0    0.0   0.0  0.0  ...     0.0   0.0     0.0     0.0   \n",
      "7579  0.0   0.0    0.0    0.0   0.0  0.0  ...     0.0   0.0     0.0     0.0   \n",
      "7580  0.0   0.0    0.0    0.0   0.0  0.0  ...     0.0   0.0     0.0     0.0   \n",
      "7581  0.0   0.0    0.0    0.0   0.0  0.0  ...     0.0   0.0     0.0     0.0   \n",
      "7582  0.0   0.0    0.0    0.0   0.0  0.0  ...     0.0   0.0     0.0     0.0   \n",
      "7583  0.0   0.0    0.0    0.0   0.0  0.0  ...     0.0   0.0     0.0     0.0   \n",
      "7584  0.0   0.0    0.0    0.0   0.0  0.0  ...     0.0   0.0     0.0     0.0   \n",
      "7585  0.0   0.0    0.0    0.0   0.0  0.0  ...     0.0   0.0     0.0     0.0   \n",
      "7586  0.0   0.0    0.0    0.0   0.0  0.0  ...     0.0   0.0     0.0     0.0   \n",
      "7587  0.0   0.0    0.0    0.0   0.0  0.0  ...     0.0   0.0     0.0     0.0   \n",
      "7588  0.0   0.0    0.0    0.0   0.0  0.0  ...     0.0   0.0     0.0     0.0   \n",
      "7589  0.0   0.0    0.0    0.0   0.0  0.0  ...     0.0   0.0     0.0     0.0   \n",
      "7590  0.0   0.0    0.0    0.0   0.0  0.0  ...     0.0   0.0     0.0     0.0   \n",
      "7591  0.0   0.0    0.0    0.0   0.0  0.0  ...     0.0   0.0     0.0     0.0   \n",
      "7592  0.0   0.0    0.0    0.0   0.0  0.0  ...     0.0   0.0     0.0     0.0   \n",
      "7593  0.0   0.0    0.0    0.0   0.0  0.0  ...     0.0   0.0     0.0     0.0   \n",
      "7594  0.0   0.0    0.0    0.0   0.0  0.0  ...     0.0   0.0     0.0     0.0   \n",
      "7595  0.0   0.0    0.0    0.0   0.0  0.0  ...     0.0   0.0     0.0     0.0   \n",
      "7596  0.0   0.0    0.0    0.0   0.0  0.0  ...     0.0   0.0     0.0     0.0   \n",
      "7597  0.0   0.0    0.0    0.0   0.0  0.0  ...     0.0   0.0     0.0     0.0   \n",
      "7598  0.0   0.0    0.0    0.0   0.0  0.0  ...     0.0   0.0     0.0     0.0   \n",
      "7599  0.0   0.0    0.0    0.0   0.0  0.0  ...     0.0   0.0     0.0     0.0   \n",
      "7600  0.0   0.0    0.0    0.0   0.0  0.0  ...     0.0   0.0     0.0     0.0   \n",
      "7601  0.0   0.0    0.0    0.0   0.0  0.0  ...     0.0   0.0     0.0     0.0   \n",
      "7602  0.0   0.0    0.0    0.0   0.0  0.0  ...     0.0   0.0     0.0     0.0   \n",
      "7603  0.0   0.0    0.0    0.0   0.0  0.0  ...     0.0   0.0     0.0     0.0   \n",
      "7604  0.0   0.0    0.0    0.0   0.0  0.0  ...     0.0   0.0     0.0     0.0   \n",
      "7605  0.0   0.0    0.0    0.0   0.0  0.0  ...     0.0   0.0     0.0     0.0   \n",
      "\n",
      "     ZMYM2 ZMYM3 ZNF133 ZNF750 TCGA Study   Leukocyte Fraction  \n",
      "0      0.0   0.0    0.0    0.0        1.0   0.0578586855952768  \n",
      "1      0.0   0.0    0.0    0.0        1.0    0.043988296639873  \n",
      "2      0.0   0.0    0.0    0.0        1.0   0.0167590478030757  \n",
      "3      0.0   0.0    0.0    0.0        1.0   0.0310468445789508  \n",
      "4      0.0   0.0    0.0    0.0        1.0   0.0347756917135674  \n",
      "5      0.0   0.0    0.0    0.0        1.0     0.25702614646976  \n",
      "6      0.0   0.0    0.0    0.0        1.0   0.0759758442688626  \n",
      "7      0.0   0.0    0.0    0.0        1.0   0.0980088595294784  \n",
      "8      0.0   0.0    0.0    0.0        1.0   0.0931118442166206  \n",
      "9      0.0   0.0    0.0    0.0        1.0   0.0377779247514518  \n",
      "10     0.0   0.0    0.0    0.0        1.0   0.0460540585769084  \n",
      "11     0.0   0.0    0.0    0.0        1.0    0.119050819657954  \n",
      "12     0.0   0.0    0.0    0.0        1.0   0.0012519711455424  \n",
      "13     0.0   0.0    0.0    0.0        1.0   0.0448042368212683  \n",
      "14     0.0   0.0    0.0    0.0        1.0   0.0357202434755671  \n",
      "15     0.0   0.0    0.0    0.0        1.0   0.0469132552992399  \n",
      "16     0.0   0.0    0.0    0.0        1.0   0.0369941120811135  \n",
      "17     0.0   0.0    0.0    0.0        1.0   0.0512405462642553  \n",
      "18     0.0   0.0    0.0    0.0        1.0   0.0066090206097487  \n",
      "19     0.0   0.0    0.0    0.0        1.0   0.0566230769237588  \n",
      "20     0.0   0.0    0.0    0.0        1.0   0.0225809815451445  \n",
      "21     0.0   0.0    0.0    0.0        1.0   0.0293673095799109  \n",
      "22     0.0   0.0    0.0    0.0        1.0   0.0603974769121382  \n",
      "23     0.0   0.0    0.0    0.0        1.0   0.0038713546127737  \n",
      "24     0.0   0.0    0.0    0.0        1.0   0.0141350190290608  \n",
      "25     0.0   0.0    0.0    0.0        1.0    0.232337892522684  \n",
      "26     0.0   0.0    0.0    0.0        1.0   0.0749314690400649  \n",
      "27     0.0   0.0    0.0    0.0        1.0   0.0267722568686688  \n",
      "28     0.0   0.0    0.0    0.0        1.0   0.0398592314077466  \n",
      "29     0.0   0.0    0.0    0.0        1.0    0.158305594142898  \n",
      "...    ...   ...    ...    ...        ...                  ...  \n",
      "7576   0.0   0.0    0.0    0.0       30.0   0.0473263172805125  \n",
      "7577   0.0   0.0    0.0    0.0       30.0    0.035347119067498  \n",
      "7578   0.0   0.0    0.0    0.0       30.0   0.0235133729087046  \n",
      "7579   0.0   0.0    0.0    0.0       30.0    0.040089070094137  \n",
      "7580   0.0   0.0    0.0    0.0       30.0    0.114809601427272  \n",
      "7581   0.0   0.0    0.0    0.0       30.0   0.0375505783902925  \n",
      "7582   0.0   0.0    0.0    0.0       30.0    0.283276682444522  \n",
      "7583   0.0   0.0    0.0    0.0       30.0    0.022319067821064  \n",
      "7584   0.0   0.0    0.0    0.0       30.0   0.0111019575578851  \n",
      "7585   0.0   0.0    0.0    0.0       30.0   0.0114724592886928  \n",
      "7586   0.0   0.0    0.0    0.0       30.0   0.0227819812447288  \n",
      "7587   0.0   0.0    0.0    0.0       30.0   0.0163224833764627  \n",
      "7588   0.0   0.0    0.0    0.0       30.0   0.0151966425274183  \n",
      "7589   0.0   0.0    0.0    0.0       30.0  0.00963354175168003  \n",
      "7590   0.0   0.0    0.0    0.0       30.0    0.281225759417215  \n",
      "7591   0.0   0.0    0.0    0.0       30.0   0.0276515161054952  \n",
      "7592   0.0   0.0    0.0    0.0       30.0   0.0336219912942312  \n",
      "7593   0.0   0.0    0.0    0.0       30.0   0.0543435918158861  \n",
      "7594   0.0   0.0    0.0    0.0       30.0   0.0669033629770309  \n",
      "7595   0.0   0.0    0.0    0.0       30.0    0.144627244149241  \n",
      "7596   0.0   0.0    0.0    0.0       30.0  0.00994536092735821  \n",
      "7597   0.0   0.0    0.0    0.0       30.0    0.273101539646447  \n",
      "7598   0.0   0.0    0.0    0.0       30.0   0.0277759676160602  \n",
      "7599   0.0   0.0    0.0    0.0       30.0  0.00586864524552137  \n",
      "7600   0.0   0.0    0.0    0.0       30.0   0.0225258742598298  \n",
      "7601   0.0   0.0    0.0    0.0       30.0   0.0431896606167899  \n",
      "7602   0.0   0.0    0.0    0.0       30.0   0.0205992480601613  \n",
      "7603   0.0   0.0    0.0    0.0       30.0   0.0210805395109695  \n",
      "7604   0.0   0.0    0.0    0.0       30.0   0.0246653148045858  \n",
      "7605   0.0   0.0    0.0    0.0       30.0   0.0163179670568617  \n",
      "\n",
      "[7606 rows x 305 columns]\n"
     ]
    }
   ],
   "source": [
    "proc_fu_clin_gene = fu_clin_gene\n",
    "#proc_fu_clin_gene = proc_fu_clin_gene.drop('bcr_patient_barcode',axis=1)\n",
    "print(proc_fu_clin_gene.shape)\n",
    "print(proc_fu_clin_gene)\n"
   ]
  },
  {
   "cell_type": "code",
   "execution_count": 799,
   "metadata": {},
   "outputs": [
    {
     "name": "stdout",
     "output_type": "stream",
     "text": [
      "[array(['FEMALE', 'MALE'], dtype=object), array(['AMERICAN INDIAN OR ALASKA NATIVE', 'ASIAN',\n",
      "       'BLACK OR AFRICAN AMERICAN',\n",
      "       'NATIVE HAWAIIAN OR OTHER PACIFIC ISLANDER', 'WHITE'], dtype=object)]\n",
      "['bcr_patient_barcode', 'gender', 'race', 'age_at_initial_pathologic_diagnosis']\n"
     ]
    }
   ],
   "source": [
    "race = proc_fu_clin_gene[cols[2]].values\n",
    "age = proc_fu_clin_gene[cols[3]].values\n",
    "tcga = pd.to_numeric(proc_fu_clin_gene['TCGA Study']).values.astype(int)\n",
    "gender = proc_fu_clin_gene[cols[1]].values.astype(int)\n",
    "print(unique_set)\n",
    "print(cols)\n",
    "#proc_data = proc_fu_clin_gene.drop([cols[2], cols[3], 'TCGA Study'], axis=1)"
   ]
  },
  {
   "cell_type": "code",
   "execution_count": 800,
   "metadata": {},
   "outputs": [
    {
     "name": "stdout",
     "output_type": "stream",
     "text": [
      "['ACC' 'BLCA' 'BRCA' 'CESC' 'CHOL' 'COAD' 'ESCA' 'GBM' 'HNSC' 'KICH'\n",
      " 'KIRC' 'KIRP' 'LGG' 'LIHC' 'LUAD' 'LUSC' 'MESO' 'OV' 'PAAD' 'PCPG' 'PRAD'\n",
      " 'READ' 'SARC' 'SKCM' 'STAD' 'TGCT' 'THCA' 'UCEC' 'UCS' 'UVM']\n"
     ]
    }
   ],
   "source": [
    "study_name = np.genfromtxt('30_TCGA_index.txt', dtype='str',delimiter='\\t')\n",
    "study = np.ndarray((len(study_name),), dtype='object') #get gene names by removing symbol, TCGA Study and leukocyte fraction\n",
    "for i in range(0, len(study_name)):\n",
    "    study[i] = study_name[i][1]\n",
    "print(study)\n"
   ]
  },
  {
   "cell_type": "code",
   "execution_count": 801,
   "metadata": {
    "scrolled": true
   },
   "outputs": [
    {
     "name": "stdout",
     "output_type": "stream",
     "text": [
      "FEMALE MALE ACC BLCA BRCA CESC CHOL COAD ESCA GBM HNSC KICH KIRC KIRP LGG LIHC LUAD LUSC MESO OV PAAD PCPG PRAD READ SARC SKCM STAD TGCT THCA UCEC UCS UVM AMERICAN INDIAN OR ALASKA NATIVE ASIAN BLACK OR AFRICAN AMERICAN NATIVE HAWAIIAN OR OTHER PACIFIC ISLANDER WHITE bcr_patient_barcode gender race age_at_initial_pathologic_diagnosis ABL1 ACVR1 ACVR1B ACVR2A AJUBA AKT1 ALB ALK AMER1 APC APOB AR ARAF ARHGAP35 ARID1A ARID2 ARID5B ASXL1 ASXL2 ATF7IP ATM ATR ATRX ATXN3 AXIN1 AXIN2 B2M BAP1 BCL2 BCL2L11 BCOR BRAF BRCA1 BRCA2 BRD7 BTG2 CACNA1A CARD11 CASP8 CBFB CBWD3 CCND1 CD70 CD79B CDH1 CDK12 CDK4 CDKN1A CDKN1B CDKN2A CDKN2C CEBPA CHD3 CHD4 CHD8 CHEK2 CIC CNBD1 COL5A1 CREB3L3 CREBBP CSDE1 CTCF CTNNB1 CTNND1 CUL1 CUL3 CYLD CYSLTR2 DACH1 DAZAP1 DDX3X DHX9 DIAPH2 DICER1 DMD DNMT3A EEF1A1 EEF2 EGFR EGR3 EIF1AX ELF3 EP300 EPAS1 EPHA2 EPHA3 ERBB2 ERBB3 ERBB4 ERCC2 ESR1 EZH2 FAM46D FAT1 FBXW7 FGFR1 FGFR2 FGFR3 FLNA FLT3 FOXA1 FOXA2 FOXQ1 FUBP1 GABRA6 GATA3 GNA11 GNA13 GNAQ GNAS GPS2 GRIN2D GTF2I H3F3A H3F3C HGF HIST1H1C HIST1H1E HLA-A HLA-B HRAS HUWE1 IDH1 IDH2 IL6ST IL7R INPPL1 IRF2 IRF6 JAK1 JAK2 JAK3 KANSL1 KDM5C KDM6A KEAP1 KEL KIF1A KIT KLF5 KMT2A KMT2B KMT2C KMT2D KRAS KRT222 LATS1 LATS2 LEMD2 LZTR1 MACF1 MAP2K1 MAP2K4 MAP3K1 MAP3K4 MAPK1 MAX MECOM MED12 MEN1 MET MGA MGMT MLH1 MSH2 MSH3 MSH6 MTOR MUC6 MYC MYCN MYD88 MYH9 NCOR1 NF1 NF2 NFE2L2 NIPBL NOTCH1 NOTCH2 NPM1 NRAS NSD1 NUP133 NUP93 PAX5 PBRM1 PCBP1 PDGFRA PDS5B PGR PHF6 PIK3CA PIK3CB PIK3CG PIK3R1 PIK3R2 PIM1 PLCB4 PLCG1 PLXNB2 PMS1 PMS2 POLE POLQ POLRMT PPM1D PPP2R1A PPP6C PRKAR1A PSIP1 PTCH1 PTEN PTMA PTPDC1 PTPN11 PTPRC PTPRD RAC1 RAD21 RAF1 RARA RASA1 RB1 RBM10 RET RFC1 RHEB RHOA RHOB RIT1 RNF111 RNF43 RPL22 RPL5 RPS6KA3 RQCD1 RRAS2 RUNX1 RXRA SCAF4 SETBP1 SETD2 SF1 SF3B1 SIN3A SMAD2 SMAD4 SMARCA1 SMARCA4 SMARCB1 SMC1A SMC3 SOS1 SOX17 SOX9 SPOP SPTA1 SPTAN1 SRSF2 STAG2 STK11 TAF1 TBL1XR1 TBX3 TCEB1 TCF12 TCF7L2 TET2 TGFBR2 TGIF1 THRAP3 TLR4 TMSB4X TNFAIP3 TP53 TRAF3 TSC1 TSC2 TXNIP U2AF1 UNCX USP9X VHL WHSC1 WT1 XPO1 ZBTB20 ZBTB7B ZC3H12A ZCCHC12 ZFHX3 ZFP36L1 ZFP36L2 ZMYM2 ZMYM3 ZNF133 ZNF750 TCGA Study Leukocyte Fraction "
     ]
    }
   ],
   "source": [
    "#  include  age / 100 \n",
    "proc_ = []\n",
    "proc_fu_clin_gene[cols[3]] = proc_fu_clin_gene[cols[3]].div(100)\n",
    "\n",
    "# include race \n",
    "n = len(race)\n",
    "tmp = np.zeros((n, len(np.unique(race))), dtype = int)\n",
    "for i in range(0, n):\n",
    "    tmp[i,race[i]] = 1\n",
    "    #print(race[i], tmp[i,:])\n",
    "tmp_df = pd.DataFrame(tmp, columns= unique_set[1])\n",
    "\n",
    "## concate dataframe\n",
    "proc_ = pd.concat([tmp_df, proc_fu_clin_gene], axis=1)\n",
    "                               \n",
    "\n",
    "# include tcga\n",
    "n = len(tcga)\n",
    "tmp = np.zeros((n, len(np.unique(tcga))), dtype = int)\n",
    "for i in range(0, n):\n",
    "    tmp[i,tcga[i]-1] = 1\n",
    "    #print(race[i], tmp[i,:])\n",
    "tmp_df = pd.DataFrame(tmp, columns = study)\n",
    "## concate dataframe\n",
    "\n",
    "proc_ = pd.concat([tmp_df, proc_], axis=1)\n",
    "\n",
    "# include gender \n",
    "n = len(gender)\n",
    "tmp = np.zeros((n, len(np.unique(gender))), dtype = int)\n",
    "for i in range(0, n):\n",
    "    tmp[i,gender[i]] = 1\n",
    "    #print(race[i], tmp[i,:])\n",
    "tmp_df = pd.DataFrame(tmp, columns= unique_set[0])\n",
    "## concate dataframe\n",
    "proc_ = pd.concat([tmp_df, proc_], axis=1)\n",
    "\n",
    "for x in (proc_.columns):\n",
    "    print(x, end = ' ')\n",
    "\n",
    "proc_ = proc_.drop(['gender', 'race', 'TCGA Study'], axis=1)\n",
    "\n",
    "proc_.to_csv('./gene_clinical_barcode.csv', index = False)\n",
    " \n",
    "proc_ = proc_.drop(cols[0], axis=1)\n",
    "proc_.to_csv('./gene_clinical.csv', index = False)"
   ]
  },
  {
   "cell_type": "code",
   "execution_count": null,
   "metadata": {},
   "outputs": [],
   "source": [
    "\n"
   ]
  }
 ],
 "metadata": {
  "kernelspec": {
   "display_name": "Python 3",
   "language": "python",
   "name": "python3"
  },
  "language_info": {
   "codemirror_mode": {
    "name": "ipython",
    "version": 3
   },
   "file_extension": ".py",
   "mimetype": "text/x-python",
   "name": "python",
   "nbconvert_exporter": "python",
   "pygments_lexer": "ipython3",
   "version": "3.6.1"
  }
 },
 "nbformat": 4,
 "nbformat_minor": 2
}
